{
 "cells": [
  {
   "cell_type": "code",
   "execution_count": null,
   "id": "788b7d2d-dbc2-42cb-bbe6-82e7acb8f7f9",
   "metadata": {},
   "outputs": [],
   "source": []
  },
  {
   "cell_type": "code",
   "execution_count": 29,
   "id": "c4bb28ea-2119-4d58-9b99-8b853fd6f73b",
   "metadata": {},
   "outputs": [],
   "source": [
    "class Node:\n",
    "    def __init__(self, elem, next = None):\n",
    "        self.data = elem\n",
    "        self.link = next\n",
    "        def append(self, node):\n",
    "            if node is None: node.link = self.link\n",
    "            self.link = node\n",
    "        def popNext(self):\n",
    "            next_node = self.link\n",
    "            if next_node is not None: self.link = next_node.link\n",
    "            return next_node\n",
    "\n",
    "class Book: #도서 추가에 제목, 출판연도과 저자를 같이 하기 위한 클래스\n",
    "    def __init__(self, title, author, year):\n",
    "        self.title = title\n",
    "        self.author = author\n",
    "        self.year = year\n",
    "    def __str__(self): # 도서 제목과 저자를 한 줄로 출력하기 위해\n",
    "        return f\"제목 : {self.title}, 저자 : {self.author}, 출판연도 : {self.year}년\"\n",
    "\n",
    "class LinkedList:\n",
    "    def __init__(self):\n",
    "        self.head = None # 빈 단순연결 리스트\n",
    "\n",
    "    def isEmpty(self):\n",
    "        return self.head == None\n",
    "\n",
    "    def getNode(self, book_id): #리스트에서 특정 위치에 있는 노드를 반환 - 검색\n",
    "        if book_id < 0:\n",
    "            return None\n",
    "        ptr = self.head\n",
    "\n",
    "        for i in range(book_id):\n",
    "            if ptr == None: \n",
    "                return None\n",
    "\n",
    "            ptr = ptr.link\n",
    "        return ptr\n",
    "\n",
    "    def getEntry(self, book_id):\n",
    "        node = self.getNode(book_id)\n",
    "        if node is None:\n",
    "            return None\n",
    "        else:\n",
    "            return node.data\n",
    "\n",
    "    def size(self): #연결리스트의 총 노드 개수를 반환 - 도서 수 확인\n",
    "        count = 0\n",
    "        ptr = self.head\n",
    "        while ptr is not None: #ptr이 None이 아닐때까지 반복적으로 수행\n",
    "            ptr = ptr.link #링크를 따라서 이동\n",
    "            count += 1\n",
    "        return count\n",
    "    \n",
    "    def display_books(self): #첫 노드부터 시작해 각 노드의 data를 출력 - 목록 출력\n",
    "        if self.isEmpty():\n",
    "            print(\"현재 도서 목록이 비어 있습니다.\")\n",
    "            return\n",
    "\n",
    "        print(\"현재 도서 목록 : \")\n",
    "        ptr = self.head\n",
    "        while ptr is not None:\n",
    "            print(ptr.data, end = ' | ')\n",
    "            ptr = ptr.link\n",
    "       \n",
    "        print()\n",
    "        \n",
    "\n",
    "    def add_book(self, book_id, title, author, year):\n",
    "        elem = Book(title, author, year)\n",
    "        node = Node(elem, None)\n",
    "        if book_id == 0:  # 맨 앞에 삽입하는 경우\n",
    "            node.link = self.head\n",
    "            self.head = node\n",
    "        else:\n",
    "            before = self.getNode(book_id - 1)  # 삽입할 위치 이전 노드\n",
    "            if before is None:  # book_id가 잘못된 경우\n",
    "                print(\"잘못된 위치입니다.\")\n",
    "                return\n",
    "            node.link = before.link\n",
    "            before.link = node\n",
    "        print(f\"도서가 추가되었습니다: {node.data}\")  # 삽입한 도서 정보 출력\n",
    "        \n",
    "    def remove_book(self, book_id):\n",
    "        if self.isEmpty():\n",
    "            print(\"삭제할 도서가 없습니다.\")\n",
    "            return\n",
    "\n",
    "        if book_id == 0:\n",
    "            removed_book = self.head.data\n",
    "            self.head = self.head.link\n",
    "            print(f\"도서가 삭제되었습니다 : {removed_book}\")\n",
    "            print()\n",
    "        else:\n",
    "            before = self.getNode(book_id - 1)\n",
    "            if before is None or before.link is None:  # 잘못된 위치\n",
    "                print(\"잘못된 위치입니다.\")\n",
    "                return\n",
    "            before.link = before.link.link\n",
    "\n",
    "    def search_book(self, title):\n",
    "        ptr = self.head\n",
    "        while ptr is not None:\n",
    "            if ptr.data.title == title:\n",
    "                print(f\"{ptr.data.year}년에 출판한 {ptr.data.author} 저자의 도서 {title}은(는) 있습니다.\")\n",
    "                return\n",
    "            ptr = ptr.link\n",
    "        print(f\"{title}도서가 목록에 없습니다.\")"
   ]
  },
  {
   "cell_type": "code",
   "execution_count": 30,
   "id": "b71dac0d-2c25-424e-942d-e9d5206bdc62",
   "metadata": {},
   "outputs": [],
   "source": [
    "\n",
    "def menu():\n",
    "    print(\"메뉴 :\")\n",
    "    print(\"1. 도서 추가\")\n",
    "    print(\"2. 도서 삭제\")\n",
    "    print(\"3. 도서 검색\")\n",
    "    print(\"4. 도서 목록 출력\")\n",
    "    print(\"5. 도서 수 확인\")\n",
    "    print(\"6. 프로그램 종료\")\n"
   ]
  },
  {
   "cell_type": "code",
   "execution_count": 32,
   "id": "d2d3a80f-eb75-4507-a4a9-9fc2be7d9a3d",
   "metadata": {},
   "outputs": [
    {
     "name": "stdout",
     "output_type": "stream",
     "text": [
      "메뉴 :\n",
      "1. 도서 추가\n",
      "2. 도서 삭제\n",
      "3. 도서 검색\n",
      "4. 도서 목록 출력\n",
      "5. 도서 수 확인\n",
      "6. 프로그램 종료\n"
     ]
    },
    {
     "name": "stdin",
     "output_type": "stream",
     "text": [
      "선택 :  1\n",
      "도서 제목을 입력하세요 :  햅릿의 모험\n",
      "도서 저자를 입력하세요:  햅릿\n",
      "도서의 출판연도를 입력하세요(숫자만 입력하세요) :  2024\n",
      "삽입할 위치를 입력하세요 (0부터 시작):  9\n"
     ]
    },
    {
     "name": "stdout",
     "output_type": "stream",
     "text": [
      "삽입할 위치가 현재 도서 수보다 커서 마지막 위치(0)에 추가합니다.\n",
      "도서가 추가되었습니다: 제목 : 햅릿의 모험, 저자 : 햅릿, 출판연도 : 2024년\n",
      "\n",
      "메뉴 :\n",
      "1. 도서 추가\n",
      "2. 도서 삭제\n",
      "3. 도서 검색\n",
      "4. 도서 목록 출력\n",
      "5. 도서 수 확인\n",
      "6. 프로그램 종료\n"
     ]
    },
    {
     "name": "stdin",
     "output_type": "stream",
     "text": [
      "선택 :  1\n",
      "도서 제목을 입력하세요 :  햅네\n",
      "도서 저자를 입력하세요:  햅네의 모험\n",
      "도서의 출판연도를 입력하세요(숫자만 입력하세요) :  2024\n",
      "삽입할 위치를 입력하세요 (0부터 시작):  9\n"
     ]
    },
    {
     "name": "stdout",
     "output_type": "stream",
     "text": [
      "삽입할 위치가 현재 도서 수보다 커서 마지막 위치(1)에 추가합니다.\n",
      "도서가 추가되었습니다: 제목 : 햅네, 저자 : 햅네의 모험, 출판연도 : 2024년\n",
      "\n",
      "메뉴 :\n",
      "1. 도서 추가\n",
      "2. 도서 삭제\n",
      "3. 도서 검색\n",
      "4. 도서 목록 출력\n",
      "5. 도서 수 확인\n",
      "6. 프로그램 종료\n"
     ]
    },
    {
     "name": "stdin",
     "output_type": "stream",
     "text": [
      "선택 :  햅호\n"
     ]
    },
    {
     "name": "stdout",
     "output_type": "stream",
     "text": [
      "잘못된 입력입니다. 다시 시도하세요.\n",
      "\n",
      "메뉴 :\n",
      "1. 도서 추가\n",
      "2. 도서 삭제\n",
      "3. 도서 검색\n",
      "4. 도서 목록 출력\n",
      "5. 도서 수 확인\n",
      "6. 프로그램 종료\n"
     ]
    },
    {
     "name": "stdin",
     "output_type": "stream",
     "text": [
      "선택 :  1\n",
      "도서 제목을 입력하세요 :  햅호\n",
      "도서 저자를 입력하세요:  햅호의 모험\n",
      "도서의 출판연도를 입력하세요(숫자만 입력하세요) :  1\n",
      "삽입할 위치를 입력하세요 (0부터 시작):  1\n"
     ]
    },
    {
     "name": "stdout",
     "output_type": "stream",
     "text": [
      "도서가 추가되었습니다: 제목 : 햅호, 저자 : 햅호의 모험, 출판연도 : 1년\n",
      "\n",
      "메뉴 :\n",
      "1. 도서 추가\n",
      "2. 도서 삭제\n",
      "3. 도서 검색\n",
      "4. 도서 목록 출력\n",
      "5. 도서 수 확인\n",
      "6. 프로그램 종료\n"
     ]
    },
    {
     "name": "stdin",
     "output_type": "stream",
     "text": [
      "선택 :  5\n"
     ]
    },
    {
     "name": "stdout",
     "output_type": "stream",
     "text": [
      "현재 도서 수: 3\n",
      "\n",
      "메뉴 :\n",
      "1. 도서 추가\n",
      "2. 도서 삭제\n",
      "3. 도서 검색\n",
      "4. 도서 목록 출력\n",
      "5. 도서 수 확인\n",
      "6. 프로그램 종료\n"
     ]
    },
    {
     "name": "stdin",
     "output_type": "stream",
     "text": [
      "선택 :  4\n"
     ]
    },
    {
     "name": "stdout",
     "output_type": "stream",
     "text": [
      "현재 도서 목록 : \n",
      "제목 : 햅릿의 모험, 저자 : 햅릿, 출판연도 : 2024년  제목 : 햅호, 저자 : 햅호의 모험, 출판연도 : 1년  제목 : 햅네, 저자 : 햅네의 모험, 출판연도 : 2024년  \n",
      "\n",
      "메뉴 :\n",
      "1. 도서 추가\n",
      "2. 도서 삭제\n",
      "3. 도서 검색\n",
      "4. 도서 목록 출력\n",
      "5. 도서 수 확인\n",
      "6. 프로그램 종료\n"
     ]
    },
    {
     "ename": "KeyboardInterrupt",
     "evalue": "Interrupted by user",
     "output_type": "error",
     "traceback": [
      "\u001b[1;31m---------------------------------------------------------------------------\u001b[0m",
      "\u001b[1;31mKeyboardInterrupt\u001b[0m                         Traceback (most recent call last)",
      "Cell \u001b[1;32mIn[32], line 7\u001b[0m\n\u001b[0;32m      5\u001b[0m \u001b[38;5;28;01mwhile\u001b[39;00m choice \u001b[38;5;241m!=\u001b[39m \u001b[38;5;241m6\u001b[39m:\n\u001b[0;32m      6\u001b[0m     menu()\n\u001b[1;32m----> 7\u001b[0m     choice \u001b[38;5;241m=\u001b[39m \u001b[38;5;28;43minput\u001b[39;49m\u001b[43m(\u001b[49m\u001b[38;5;124;43m\"\u001b[39;49m\u001b[38;5;124;43m선택 : \u001b[39;49m\u001b[38;5;124;43m\"\u001b[39;49m\u001b[43m)\u001b[49m\n\u001b[0;32m      9\u001b[0m     \u001b[38;5;28;01mtry\u001b[39;00m:  \u001b[38;5;66;03m# choice에 숫자가 아닌 다른 자료형이 들어오는 것을 막기 위해서\u001b[39;00m\n\u001b[0;32m     10\u001b[0m         choice \u001b[38;5;241m=\u001b[39m \u001b[38;5;28mint\u001b[39m(choice)\n",
      "File \u001b[1;32m~\\AppData\\Local\\Programs\\Python\\Python312\\Lib\\site-packages\\ipykernel\\kernelbase.py:1282\u001b[0m, in \u001b[0;36mKernel.raw_input\u001b[1;34m(self, prompt)\u001b[0m\n\u001b[0;32m   1280\u001b[0m     msg \u001b[38;5;241m=\u001b[39m \u001b[38;5;124m\"\u001b[39m\u001b[38;5;124mraw_input was called, but this frontend does not support input requests.\u001b[39m\u001b[38;5;124m\"\u001b[39m\n\u001b[0;32m   1281\u001b[0m     \u001b[38;5;28;01mraise\u001b[39;00m StdinNotImplementedError(msg)\n\u001b[1;32m-> 1282\u001b[0m \u001b[38;5;28;01mreturn\u001b[39;00m \u001b[38;5;28;43mself\u001b[39;49m\u001b[38;5;241;43m.\u001b[39;49m\u001b[43m_input_request\u001b[49m\u001b[43m(\u001b[49m\n\u001b[0;32m   1283\u001b[0m \u001b[43m    \u001b[49m\u001b[38;5;28;43mstr\u001b[39;49m\u001b[43m(\u001b[49m\u001b[43mprompt\u001b[49m\u001b[43m)\u001b[49m\u001b[43m,\u001b[49m\n\u001b[0;32m   1284\u001b[0m \u001b[43m    \u001b[49m\u001b[38;5;28;43mself\u001b[39;49m\u001b[38;5;241;43m.\u001b[39;49m\u001b[43m_parent_ident\u001b[49m\u001b[43m[\u001b[49m\u001b[38;5;124;43m\"\u001b[39;49m\u001b[38;5;124;43mshell\u001b[39;49m\u001b[38;5;124;43m\"\u001b[39;49m\u001b[43m]\u001b[49m\u001b[43m,\u001b[49m\n\u001b[0;32m   1285\u001b[0m \u001b[43m    \u001b[49m\u001b[38;5;28;43mself\u001b[39;49m\u001b[38;5;241;43m.\u001b[39;49m\u001b[43mget_parent\u001b[49m\u001b[43m(\u001b[49m\u001b[38;5;124;43m\"\u001b[39;49m\u001b[38;5;124;43mshell\u001b[39;49m\u001b[38;5;124;43m\"\u001b[39;49m\u001b[43m)\u001b[49m\u001b[43m,\u001b[49m\n\u001b[0;32m   1286\u001b[0m \u001b[43m    \u001b[49m\u001b[43mpassword\u001b[49m\u001b[38;5;241;43m=\u001b[39;49m\u001b[38;5;28;43;01mFalse\u001b[39;49;00m\u001b[43m,\u001b[49m\n\u001b[0;32m   1287\u001b[0m \u001b[43m\u001b[49m\u001b[43m)\u001b[49m\n",
      "File \u001b[1;32m~\\AppData\\Local\\Programs\\Python\\Python312\\Lib\\site-packages\\ipykernel\\kernelbase.py:1325\u001b[0m, in \u001b[0;36mKernel._input_request\u001b[1;34m(self, prompt, ident, parent, password)\u001b[0m\n\u001b[0;32m   1322\u001b[0m \u001b[38;5;28;01mexcept\u001b[39;00m \u001b[38;5;167;01mKeyboardInterrupt\u001b[39;00m:\n\u001b[0;32m   1323\u001b[0m     \u001b[38;5;66;03m# re-raise KeyboardInterrupt, to truncate traceback\u001b[39;00m\n\u001b[0;32m   1324\u001b[0m     msg \u001b[38;5;241m=\u001b[39m \u001b[38;5;124m\"\u001b[39m\u001b[38;5;124mInterrupted by user\u001b[39m\u001b[38;5;124m\"\u001b[39m\n\u001b[1;32m-> 1325\u001b[0m     \u001b[38;5;28;01mraise\u001b[39;00m \u001b[38;5;167;01mKeyboardInterrupt\u001b[39;00m(msg) \u001b[38;5;28;01mfrom\u001b[39;00m \u001b[38;5;28;01mNone\u001b[39;00m\n\u001b[0;32m   1326\u001b[0m \u001b[38;5;28;01mexcept\u001b[39;00m \u001b[38;5;167;01mException\u001b[39;00m:\n\u001b[0;32m   1327\u001b[0m     \u001b[38;5;28mself\u001b[39m\u001b[38;5;241m.\u001b[39mlog\u001b[38;5;241m.\u001b[39mwarning(\u001b[38;5;124m\"\u001b[39m\u001b[38;5;124mInvalid Message:\u001b[39m\u001b[38;5;124m\"\u001b[39m, exc_info\u001b[38;5;241m=\u001b[39m\u001b[38;5;28;01mTrue\u001b[39;00m)\n",
      "\u001b[1;31mKeyboardInterrupt\u001b[0m: Interrupted by user"
     ]
    },
    {
     "name": "stdin",
     "output_type": "stream",
     "text": [
      "선택 :  6\n"
     ]
    }
   ],
   "source": [
    "choice = 0\n",
    "error_count = 0\n",
    "library = LinkedList()\n",
    "\n",
    "while choice != 6:\n",
    "    menu()\n",
    "    choice = input(\"선택 : \")\n",
    "    \n",
    "    try:  # choice에 숫자가 아닌 다른 자료형이 들어오는 것을 막기 위해서\n",
    "        choice = int(choice)\n",
    "    except ValueError:\n",
    "        print(\"잘못된 입력입니다. 다시 시도하세요.\")\n",
    "        print()\n",
    "        error_count += 1\n",
    "        continue\n",
    "    \n",
    "    if choice == 1:\n",
    "        title = input(\"도서 제목을 입력하세요 : \")\n",
    "        author = input(\"도서 저자를 입력하세요: \")\n",
    "        year = input(\"도서의 출판연도를 입력하세요(숫자만 입력하세요) : \")\n",
    "        \n",
    "        try:  # 출판연도가 숫자가 아닌 자료형이 들어오는 것을 막기 위해서\n",
    "            year = int(year)\n",
    "        except ValueError:\n",
    "            print(\"잘못된 입력입니다. 다시 시도하세요.\")\n",
    "            print()\n",
    "            error_count += 1\n",
    "            continue\n",
    "            \n",
    "        while True: \n",
    "            try:\n",
    "                book_id = int(input(\"삽입할 위치를 입력하세요 (0부터 시작): \"))\n",
    "                # 삽입할 위치가 현재 도서 수보다 크면 마지막 위치에 추가\n",
    "                if book_id >= library.size():\n",
    "                    print(f\"삽입할 위치가 현재 도서 수보다 커서 마지막 위치({library.size()})에 추가합니다.\")\n",
    "                    book_id = library.size()\n",
    "                library.add_book(book_id, title, author, year)\n",
    "                break\n",
    "            except ValueError:\n",
    "                print(\"잘못된 입력입니다. 정수를 입력하세요.\")\n",
    "                error_count += 1\n",
    "                \n",
    "        print()           \n",
    "        \n",
    "    elif choice == 2:\n",
    "        library.display_books()\n",
    "        while True:\n",
    "            try:\n",
    "                book_id = int(input(\"삭제할 도서의 위치를 입력하세요 (0부터 시작): \"))\n",
    "                if 0 <= book_id < library.size():\n",
    "                    library.remove_book(book_id)\n",
    "                    break\n",
    "                else:\n",
    "                    print(f\"잘못된 위치입니다. 위치는 0부터 {library.size() - 1} 사이여야 합니다.\")\n",
    "            except ValueError:\n",
    "                print(\"잘못된 입력입니다. 정수를 입력하세요.\")\n",
    "                error_count += 1\n",
    "                \n",
    "        print()\n",
    "           \n",
    "    elif choice == 3:\n",
    "        title = input(\"검색할 도서 제목을 입력하세요: \")\n",
    "        library.search_book(title)\n",
    "        print()\n",
    "        \n",
    "    elif choice == 4:\n",
    "        library.display_books()\n",
    "        print()    \n",
    "        \n",
    "    elif choice == 5:\n",
    "        print(f\"현재 도서 수: {library.size()}\")\n",
    "        print()\n",
    "        \n",
    "    elif choice == 6:\n",
    "        print(\"프로그램을 종료합니다.\")\n",
    "        print()\n",
    "        \n",
    "    else:  # choice에 주어진 1~6의 숫자를 제외한 다른 숫자가 들어왔을 경우\n",
    "        if error_count == 0:\n",
    "            print(\"잘못된 선택입니다. 다시 시도하세요.\")\n",
    "            print()\n",
    "        else:\n",
    "            error_count = 0"
   ]
  },
  {
   "cell_type": "code",
   "execution_count": null,
   "id": "415ab22c-df3a-4326-b37f-b278fefa7b52",
   "metadata": {},
   "outputs": [],
   "source": []
  },
  {
   "cell_type": "code",
   "execution_count": null,
   "id": "648e2db1-ae4f-4199-843b-cce6ec7f3aca",
   "metadata": {},
   "outputs": [],
   "source": []
  }
 ],
 "metadata": {
  "kernelspec": {
   "display_name": "Python 3 (ipykernel)",
   "language": "python",
   "name": "python3"
  },
  "language_info": {
   "codemirror_mode": {
    "name": "ipython",
    "version": 3
   },
   "file_extension": ".py",
   "mimetype": "text/x-python",
   "name": "python",
   "nbconvert_exporter": "python",
   "pygments_lexer": "ipython3",
   "version": "3.12.2"
  }
 },
 "nbformat": 4,
 "nbformat_minor": 5
}
