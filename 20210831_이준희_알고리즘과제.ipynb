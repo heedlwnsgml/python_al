{
 "cells": [
  {
   "cell_type": "code",
   "execution_count": 56,
   "id": "9ffe9c5c-43e0-4a5c-acf5-ca8ced054a8a",
   "metadata": {},
   "outputs": [],
   "source": [
    "class Node:\n",
    "    def __init__(self, elem, next = None):\n",
    "        self.data = elem\n",
    "        self.link = next\n",
    "\n",
    "class Book: #도서 추가에 제목과 저자를 같이 하기 위한 클래스\n",
    "    def __init__(self, title, author):\n",
    "        self.title = title\n",
    "        self.author = author\n",
    "\n",
    "    def __str__(self): # 도서 제목과 저자를 한 줄로 출력하기 위해\n",
    "        return f\"제목 : {self.title}, 저자 : {self.author}\"\n",
    "\n",
    "class LinkedList:\n",
    "    def __init__(self):\n",
    "        self.head = None # 빈 단순연결 리스트\n",
    "\n",
    "    def isEmpty(self):\n",
    "        return self.head == None\n",
    "\n",
    "    def isFull(self): #이번 문제에서는 필요 없음\n",
    "        return False\n",
    "\n",
    "    def getNode(self, pos): #리스트에서 특정 위치에 있는 노드를 반환 - 검색\n",
    "        if pos < 0:\n",
    "            return None\n",
    "        ptr = self.head\n",
    "\n",
    "        for i in range(pos):\n",
    "            if ptr == None: \n",
    "                return None\n",
    "\n",
    "            ptr = ptr.link\n",
    "        return ptr\n",
    "\n",
    "    def getEntry(self, pos):\n",
    "        node = self.getNode(pos)\n",
    "        if node is None:\n",
    "            return None\n",
    "        else:\n",
    "            return node.data\n",
    "\n",
    "    def size(self): #연결리스트의 총 노드 개수를 반환 - 도서 수 확인\n",
    "        count = 0\n",
    "        ptr = self.head\n",
    "        while ptr is not None: #ptr이 None이 아닐때까지 반복적으로 수행\n",
    "            ptr = ptr.link #링크를 따라서 이동\n",
    "            count += 1\n",
    "        return count\n",
    "    \n",
    "    def display(self): #첫 노드부터 시작해 각 노드의 data를 출력 - 목록 출력\n",
    "        if self.isEmpty():\n",
    "            print(\"현재 도서 목록이 비어 있습니다.\")\n",
    "            return\n",
    "\n",
    "        print(\"현재 도서 목록 : \")\n",
    "        ptr = self.head\n",
    "        while ptr is not None:\n",
    "            print(ptr.data, end = ' ')\n",
    "            ptr = ptr.link\n",
    "        \n",
    "\n",
    "    def insert(self, pos, title, author):\n",
    "        elem = Book(title, author)\n",
    "        node = Node(elem, None)\n",
    "        before = self.getNode(pos-1) #삽입할 위치 이전 노드의 위치를 얻어온다.\n",
    "        if before == None:  #pos가 0임을 의미\n",
    "            node.link = self.head\n",
    "            self.head = node\n",
    "        else:\n",
    "            before.append(node)\n",
    "        \n",
    "    def delete(self, pos):\n",
    "        if self.isEmpty():\n",
    "            print(\"삭제할 도서가 없습니다.\")\n",
    "            return\n",
    "\n",
    "        if pos == 0:\n",
    "            removed_book = self.head.data\n",
    "            self.head = self.head.link\n",
    "            print(f\"도서가 삭제되었습니다 : {removed_book}\")\n",
    "        else:\n",
    "            before = self.getNode(pos - 1)\n",
    "            if before is None or before.link is None:  # 잘못된 위치\n",
    "                print(\"잘못된 위치입니다.\")\n",
    "                return\n",
    "            before.link = before.link.link\n",
    "\n",
    "    def find(self, title):\n",
    "        ptr = self.head\n",
    "        while ptr is not None:\n",
    "            if ptr.data.title == title:\n",
    "                print(f\"{ptr.data.author} 저자의 도서 {title}이 있습니다.\")\n",
    "                return\n",
    "            ptr = ptr.link\n",
    "        print(f\"{title}도서가 목록에 없습니다.\")"
   ]
  },
  {
   "cell_type": "code",
   "execution_count": 57,
   "id": "14d2ae45-0219-4007-bb4e-7e21ddc9c6b3",
   "metadata": {},
   "outputs": [],
   "source": [
    "\n",
    "def menu():\n",
    "    print(\"메뉴 :\")\n",
    "    print(\"1. 도서 추가\")\n",
    "    print(\"2. 도서 삭제\")\n",
    "    print(\"3. 도서 검색\")\n",
    "    print(\"4. 도서 목록 출력\")\n",
    "    print(\"5. 도서 수 확인\")\n",
    "    print(\"6. 프로그램 종료\")\n"
   ]
  },
  {
   "cell_type": "code",
   "execution_count": 59,
   "id": "078b346a-9eee-4989-a749-c2f44a1aaa7b",
   "metadata": {},
   "outputs": [
    {
     "name": "stdout",
     "output_type": "stream",
     "text": [
      "메뉴 :\n",
      "1. 도서 추가\n",
      "2. 도서 삭제\n",
      "3. 도서 검색\n",
      "4. 도서 목록 출력\n",
      "5. 도서 수 확인\n",
      "6. 프로그램 종료\n"
     ]
    },
    {
     "name": "stdin",
     "output_type": "stream",
     "text": [
      "선택 :  1\n",
      "도서 제목을 입력하세요 :  한멸\n",
      "도서 저자를 입력하세요:  멸\n",
      "삽입할 위치를 입력하세요 (0부터 시작):  ㅂ\n"
     ]
    },
    {
     "name": "stdout",
     "output_type": "stream",
     "text": [
      "잘못된 입력입니다. 정수를 입력하세요.\n"
     ]
    },
    {
     "name": "stdin",
     "output_type": "stream",
     "text": [
      "삽입할 위치를 입력하세요 (0부터 시작):  1\n"
     ]
    },
    {
     "name": "stdout",
     "output_type": "stream",
     "text": [
      "메뉴 :\n",
      "1. 도서 추가\n",
      "2. 도서 삭제\n",
      "3. 도서 검색\n",
      "4. 도서 목록 출력\n",
      "5. 도서 수 확인\n",
      "6. 프로그램 종료\n"
     ]
    },
    {
     "name": "stdin",
     "output_type": "stream",
     "text": [
      "선택 :  1\n",
      "도서 제목을 입력하세요 :  한결\n",
      "도서 저자를 입력하세요:  걀\n",
      "삽입할 위치를 입력하세요 (0부터 시작):  0\n"
     ]
    },
    {
     "name": "stdout",
     "output_type": "stream",
     "text": [
      "메뉴 :\n",
      "1. 도서 추가\n",
      "2. 도서 삭제\n",
      "3. 도서 검색\n",
      "4. 도서 목록 출력\n",
      "5. 도서 수 확인\n",
      "6. 프로그램 종료\n"
     ]
    },
    {
     "name": "stdin",
     "output_type": "stream",
     "text": [
      "선택 :  ㅇ\n"
     ]
    },
    {
     "name": "stdout",
     "output_type": "stream",
     "text": [
      "잘못된 입력입니다. 다시 시도하세요.\n",
      "메뉴 :\n",
      "1. 도서 추가\n",
      "2. 도서 삭제\n",
      "3. 도서 검색\n",
      "4. 도서 목록 출력\n",
      "5. 도서 수 확인\n",
      "6. 프로그램 종료\n"
     ]
    },
    {
     "ename": "KeyboardInterrupt",
     "evalue": "Interrupted by user",
     "output_type": "error",
     "traceback": [
      "\u001b[1;31m---------------------------------------------------------------------------\u001b[0m",
      "\u001b[1;31mKeyboardInterrupt\u001b[0m                         Traceback (most recent call last)",
      "Cell \u001b[1;32mIn[59], line 6\u001b[0m\n\u001b[0;32m      4\u001b[0m \u001b[38;5;28;01mwhile\u001b[39;00m choice \u001b[38;5;241m!=\u001b[39m \u001b[38;5;241m6\u001b[39m:\n\u001b[0;32m      5\u001b[0m     menu()\n\u001b[1;32m----> 6\u001b[0m     choice \u001b[38;5;241m=\u001b[39m \u001b[38;5;28;43minput\u001b[39;49m\u001b[43m(\u001b[49m\u001b[38;5;124;43m\"\u001b[39;49m\u001b[38;5;124;43m선택 : \u001b[39;49m\u001b[38;5;124;43m\"\u001b[39;49m\u001b[43m)\u001b[49m\n\u001b[0;32m      8\u001b[0m     \u001b[38;5;28;01mtry\u001b[39;00m:\n\u001b[0;32m      9\u001b[0m         choice \u001b[38;5;241m=\u001b[39m \u001b[38;5;28mint\u001b[39m(choice)\n",
      "File \u001b[1;32m~\\AppData\\Local\\Programs\\Python\\Python312\\Lib\\site-packages\\ipykernel\\kernelbase.py:1282\u001b[0m, in \u001b[0;36mKernel.raw_input\u001b[1;34m(self, prompt)\u001b[0m\n\u001b[0;32m   1280\u001b[0m     msg \u001b[38;5;241m=\u001b[39m \u001b[38;5;124m\"\u001b[39m\u001b[38;5;124mraw_input was called, but this frontend does not support input requests.\u001b[39m\u001b[38;5;124m\"\u001b[39m\n\u001b[0;32m   1281\u001b[0m     \u001b[38;5;28;01mraise\u001b[39;00m StdinNotImplementedError(msg)\n\u001b[1;32m-> 1282\u001b[0m \u001b[38;5;28;01mreturn\u001b[39;00m \u001b[38;5;28;43mself\u001b[39;49m\u001b[38;5;241;43m.\u001b[39;49m\u001b[43m_input_request\u001b[49m\u001b[43m(\u001b[49m\n\u001b[0;32m   1283\u001b[0m \u001b[43m    \u001b[49m\u001b[38;5;28;43mstr\u001b[39;49m\u001b[43m(\u001b[49m\u001b[43mprompt\u001b[49m\u001b[43m)\u001b[49m\u001b[43m,\u001b[49m\n\u001b[0;32m   1284\u001b[0m \u001b[43m    \u001b[49m\u001b[38;5;28;43mself\u001b[39;49m\u001b[38;5;241;43m.\u001b[39;49m\u001b[43m_parent_ident\u001b[49m\u001b[43m[\u001b[49m\u001b[38;5;124;43m\"\u001b[39;49m\u001b[38;5;124;43mshell\u001b[39;49m\u001b[38;5;124;43m\"\u001b[39;49m\u001b[43m]\u001b[49m\u001b[43m,\u001b[49m\n\u001b[0;32m   1285\u001b[0m \u001b[43m    \u001b[49m\u001b[38;5;28;43mself\u001b[39;49m\u001b[38;5;241;43m.\u001b[39;49m\u001b[43mget_parent\u001b[49m\u001b[43m(\u001b[49m\u001b[38;5;124;43m\"\u001b[39;49m\u001b[38;5;124;43mshell\u001b[39;49m\u001b[38;5;124;43m\"\u001b[39;49m\u001b[43m)\u001b[49m\u001b[43m,\u001b[49m\n\u001b[0;32m   1286\u001b[0m \u001b[43m    \u001b[49m\u001b[43mpassword\u001b[49m\u001b[38;5;241;43m=\u001b[39;49m\u001b[38;5;28;43;01mFalse\u001b[39;49;00m\u001b[43m,\u001b[49m\n\u001b[0;32m   1287\u001b[0m \u001b[43m\u001b[49m\u001b[43m)\u001b[49m\n",
      "File \u001b[1;32m~\\AppData\\Local\\Programs\\Python\\Python312\\Lib\\site-packages\\ipykernel\\kernelbase.py:1325\u001b[0m, in \u001b[0;36mKernel._input_request\u001b[1;34m(self, prompt, ident, parent, password)\u001b[0m\n\u001b[0;32m   1322\u001b[0m \u001b[38;5;28;01mexcept\u001b[39;00m \u001b[38;5;167;01mKeyboardInterrupt\u001b[39;00m:\n\u001b[0;32m   1323\u001b[0m     \u001b[38;5;66;03m# re-raise KeyboardInterrupt, to truncate traceback\u001b[39;00m\n\u001b[0;32m   1324\u001b[0m     msg \u001b[38;5;241m=\u001b[39m \u001b[38;5;124m\"\u001b[39m\u001b[38;5;124mInterrupted by user\u001b[39m\u001b[38;5;124m\"\u001b[39m\n\u001b[1;32m-> 1325\u001b[0m     \u001b[38;5;28;01mraise\u001b[39;00m \u001b[38;5;167;01mKeyboardInterrupt\u001b[39;00m(msg) \u001b[38;5;28;01mfrom\u001b[39;00m \u001b[38;5;28;01mNone\u001b[39;00m\n\u001b[0;32m   1326\u001b[0m \u001b[38;5;28;01mexcept\u001b[39;00m \u001b[38;5;167;01mException\u001b[39;00m:\n\u001b[0;32m   1327\u001b[0m     \u001b[38;5;28mself\u001b[39m\u001b[38;5;241m.\u001b[39mlog\u001b[38;5;241m.\u001b[39mwarning(\u001b[38;5;124m\"\u001b[39m\u001b[38;5;124mInvalid Message:\u001b[39m\u001b[38;5;124m\"\u001b[39m, exc_info\u001b[38;5;241m=\u001b[39m\u001b[38;5;28;01mTrue\u001b[39;00m)\n",
      "\u001b[1;31mKeyboardInterrupt\u001b[0m: Interrupted by user"
     ]
    }
   ],
   "source": [
    "choice = 0\n",
    "Error_count = 0\n",
    "library = LinkedList()\n",
    "while choice != 6:\n",
    "    menu()\n",
    "    choice = input(\"선택 : \")\n",
    "\n",
    "    try:\n",
    "        choice = int(choice)\n",
    "    except ValueError:\n",
    "        print(\"잘못된 입력입니다. 다시 시도하세요.\")\n",
    "    \n",
    "    if choice == 1:\n",
    "        title = input(\"도서 제목을 입력하세요 : \")\n",
    "        author = input(\"도서 저자를 입력하세요: \")\n",
    "        while True: \n",
    "            try:\n",
    "                pos = int(input(\"삽입할 위치를 입력하세요 (0부터 시작): \"))\n",
    "                library.insert(pos, title, author)\n",
    "                break\n",
    "            except ValueError:\n",
    "                print(\"잘못된 입력입니다. 정수를 입력하세요.\")\n",
    "                Error_count += 1\n",
    "                \n",
    "    elif choice == 2:\n",
    "       while True:\n",
    "            try:\n",
    "                pos = int(input(\"삭제할 도서의 위치를 입력하세요 (0부터 시작): \"))\n",
    "                library.delete(pos)\n",
    "                break \n",
    "            except ValueError:\n",
    "                print(\"잘못된 입력입니다. 정수를 입력하세요.\")\n",
    "                Error_count += 1\n",
    "\n",
    "    elif choice == 3:\n",
    "        title = input(\"검색할 도서 제목을 입력하세요: \")\n",
    "        library.find(title)\n",
    "\n",
    "    elif choice == 4:\n",
    "        library.display()\n",
    "        \n",
    "    elif choice == 5:\n",
    "        print(f\"현재 도서 수: {library.size()}\")\n",
    "    \n",
    "    elif choice == 6:\n",
    "        print(\"프로그램을 종료합니다\")\n",
    "        \n",
    "    else:\n",
    "        if Error_count == 0:\n",
    "            print(\"잘못된 선택입니다. 다시 시도하세요.\")\n",
    "        else:\n",
    "            Error_count = 0"
   ]
  },
  {
   "cell_type": "code",
   "execution_count": null,
   "id": "5f124595-9f6f-4f1c-a7af-7551a908f30d",
   "metadata": {},
   "outputs": [],
   "source": []
  }
 ],
 "metadata": {
  "kernelspec": {
   "display_name": "Python 3 (ipykernel)",
   "language": "python",
   "name": "python3"
  },
  "language_info": {
   "codemirror_mode": {
    "name": "ipython",
    "version": 3
   },
   "file_extension": ".py",
   "mimetype": "text/x-python",
   "name": "python",
   "nbconvert_exporter": "python",
   "pygments_lexer": "ipython3",
   "version": "3.12.2"
  }
 },
 "nbformat": 4,
 "nbformat_minor": 5
}
