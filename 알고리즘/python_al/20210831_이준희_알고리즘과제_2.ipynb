{
 "cells": [
  {
   "cell_type": "markdown",
   "id": "70d5e1c2-4304-4301-b47e-f1f3e48ce6ca",
   "metadata": {},
   "source": [
    "# #. 정렬 알고리즘을 이용한 기말 프로그래밍 과제\n",
    "- 과제 주제: 학생 성적 관리 시스템\n",
    "    - 학생 성적 데이터가 주어졌을 때, 다양한 정렬 알고리즘을 활용해 데이터를 정렬하고 분석하는 프로그램을 작성하세요.\n",
    "    - 이 과제를 통해 정렬 알고리즘의 원리를 이해하고, 실제 데이터에 적용하는 방법을 익히게 됩니다.\n",
    "- 과제 요구사항\n",
    "  - 학생 정보 생성 및 저장:\n",
    "    - 30명의 학생 정보를 무작위로 생성하세요. 각 학생의 정보는 다음과 같습니다:\n",
    "      - 이름: 알파벳 대문자 두 글자 (예: AB, CD)\n",
    "      - 나이: 18 ~ 22 사이의 정수\n",
    "      - 성적: 0 ~ 100 사이의 정수\n",
    "      - 생성된 학생 정보를 리스트에 저장하세요. 각 학생의 정보는 딕셔너리 형태({\"이름\": \"AB\", \"나이\": 19, \"성적\": 85})로 저장합니다.\n",
    "\n",
    "  - 정렬 기능 구현:\n",
    "    - 다음 네 가지 정렬 알고리즘을 구현하세요.\n",
    "      - 선택 정렬, 삽입 정렬, 퀵 정렬\n",
    "      - 기수 정렬 (성적 기준으로 정렬할 때만 사용 가능)\n",
    "    - 각 정렬 알고리즘은 특정 필드를 기준으로 학생 리스트를 정렬할 수 있어야 합니다:\n",
    "      - 이름 (알파벳 순서)\n",
    "      - 나이 (오름차순)\n",
    "      - 성적 (오름차순)\n",
    "  \n",
    "  - 메뉴 및 사용자 입력:\n",
    "    - 프로그램 시작 시, 사용자에게 다음 메뉴를 제공합니다:\n",
    "      - 이름을 기준으로 정렬\n",
    "      - 나이를 기준으로 정렬\n",
    "      - 성적을 기준으로 정렬\n",
    "      - 프로그램 종료\n",
    "    - 사용자 입력에 따라 정렬 기준과 정렬 알고리즘을 선택하도록 합니다.\n",
    "    - 정렬된 결과를 화면에 출력하세요.\n",
    "\n",
    "  - 단계별 출력 (선택 사항):\n",
    "    - 선택한 정렬 알고리즘의 정렬 과정을 단계별로 출력하는 기능을 구현합니다.\n",
    "      - 예를 들어, 선택 정렬의 경우 각 단계마다 리스트 상태를 출력하여 정렬 과정이 어떻게 진행되는지 보여줍니다.\n",
    "\n",
    "- 제출물\n",
    "    - 코드: 파이썬 파일로 정렬 프로그램의 전체 코드 제출.\n",
    "    - 개인 github에 결과물 업로드하기\n",
    "    - github 계정(주소)은 cyber 캠퍼스에 업로드하기"
   ]
  },
  {
   "cell_type": "code",
   "execution_count": null,
   "id": "f7a485b8-35d4-4e62-89b4-05a88febf0d1",
   "metadata": {},
   "outputs": [
    {
     "name": "stdout",
     "output_type": "stream",
     "text": [
      "\n",
      "=== 학생 성적 관리 시스템 ===\n",
      "1. 이름을 기준으로 정렬\n",
      "2. 나이를 기준으로 정렬\n",
      "3. 성적을 기준으로 정렬\n",
      "4. 종료\n"
     ]
    },
    {
     "name": "stdin",
     "output_type": "stream",
     "text": [
      "메뉴를 선택하세요 (1-4):  1\n"
     ]
    },
    {
     "name": "stdout",
     "output_type": "stream",
     "text": [
      "\n",
      "1. 선택 정렬\n",
      "2. 삽입 정렬\n",
      "3. 퀵 정렬\n",
      "4. 기수 정렬 (성적 기준만 가능)\n"
     ]
    },
    {
     "name": "stdin",
     "output_type": "stream",
     "text": [
      "정렬 알고리즘을 선택하세요 (1-4):  5\n"
     ]
    },
    {
     "name": "stdout",
     "output_type": "stream",
     "text": [
      "잘못된 입력입니다. 정렬 메뉴를 다시 선택하세요.\n",
      "\n",
      "1. 선택 정렬\n",
      "2. 삽입 정렬\n",
      "3. 퀵 정렬\n",
      "4. 기수 정렬 (성적 기준만 가능)\n"
     ]
    },
    {
     "name": "stdin",
     "output_type": "stream",
     "text": [
      "정렬 알고리즘을 선택하세요 (1-4):  t\n"
     ]
    },
    {
     "name": "stdout",
     "output_type": "stream",
     "text": [
      "잘못된 입력입니다. 정렬 메뉴를 다시 선택하세요.\n",
      "\n",
      "1. 선택 정렬\n",
      "2. 삽입 정렬\n",
      "3. 퀵 정렬\n",
      "4. 기수 정렬 (성적 기준만 가능)\n"
     ]
    },
    {
     "name": "stdin",
     "output_type": "stream",
     "text": [
      "정렬 알고리즘을 선택하세요 (1-4):  4\n",
      "단계별 출력을 보시겠습니까? (y/n):  n\n"
     ]
    },
    {
     "name": "stdout",
     "output_type": "stream",
     "text": [
      "기수 정렬은 성적 기준으로만 사용 가능합니다.\n",
      "\n",
      "=== 학생 성적 관리 시스템 ===\n",
      "1. 이름을 기준으로 정렬\n",
      "2. 나이를 기준으로 정렬\n",
      "3. 성적을 기준으로 정렬\n",
      "4. 종료\n"
     ]
    },
    {
     "name": "stdin",
     "output_type": "stream",
     "text": [
      "메뉴를 선택하세요 (1-4):  3\n"
     ]
    },
    {
     "name": "stdout",
     "output_type": "stream",
     "text": [
      "\n",
      "1. 선택 정렬\n",
      "2. 삽입 정렬\n",
      "3. 퀵 정렬\n",
      "4. 기수 정렬 (성적 기준만 가능)\n"
     ]
    },
    {
     "name": "stdin",
     "output_type": "stream",
     "text": [
      "정렬 알고리즘을 선택하세요 (1-4):  4\n",
      "단계별 출력을 보시겠습니까? (y/n):  n\n"
     ]
    },
    {
     "name": "stdout",
     "output_type": "stream",
     "text": [
      "\n",
      "=== 정렬 결과 ===\n",
      "{'이름': 'KG', '나이': 19, '성적': 2}\n",
      "{'이름': 'FN', '나이': 20, '성적': 5}\n",
      "{'이름': 'IR', '나이': 21, '성적': 9}\n",
      "{'이름': 'IU', '나이': 22, '성적': 15}\n",
      "{'이름': 'GM', '나이': 19, '성적': 16}\n",
      "{'이름': 'WC', '나이': 21, '성적': 35}\n",
      "{'이름': 'XD', '나이': 22, '성적': 39}\n",
      "{'이름': 'QX', '나이': 21, '성적': 41}\n",
      "{'이름': 'LD', '나이': 18, '성적': 95}\n",
      "{'이름': 'SD', '나이': 19, '성적': 97}\n",
      "\n",
      "=== 학생 성적 관리 시스템 ===\n",
      "1. 이름을 기준으로 정렬\n",
      "2. 나이를 기준으로 정렬\n",
      "3. 성적을 기준으로 정렬\n",
      "4. 종료\n"
     ]
    }
   ],
   "source": [
    "import random\n",
    "\n",
    "# 1. 학생 정보 생성\n",
    "def generate_students(num_students=30):\n",
    "    students = []\n",
    "    for _ in range(num_students):\n",
    "        name = \"\".join(random.choices(\"ABCDEFGHIJKLMNOPQRSTUVWXYZ\", k=2))\n",
    "        age = random.randint(18, 22)\n",
    "        score = random.randint(0, 100)\n",
    "        students.append({\"이름\": name, \"나이\": age, \"성적\": score})\n",
    "    return students\n",
    "\n",
    "# 2. 정렬 알고리즘\n",
    "# 선택 정렬\n",
    "def selection_sort(data, key, step=False):\n",
    "    n = len(data)\n",
    "    for i in range(n):\n",
    "        min_idx = i\n",
    "        for j in range(i+1, n):\n",
    "            if data[j][key] < data[min_idx][key]:\n",
    "                min_idx = j\n",
    "        data[i], data[min_idx] = data[min_idx], data[i]\n",
    "        if step:\n",
    "            print(f\"Step {i+1}: {data}\")\n",
    "    return data\n",
    "\n",
    "# 삽입 정렬\n",
    "def insertion_sort(data, key, step=False):\n",
    "    for i in range(1, len(data)):\n",
    "        key_item = data[i]\n",
    "        j = i - 1\n",
    "        while j >= 0 and data[j][key] > key_item[key]:\n",
    "            data[j + 1] = data[j]\n",
    "            j -= 1\n",
    "        data[j + 1] = key_item\n",
    "        if step:\n",
    "            print(f\"Step {i}: {data}\")\n",
    "    return data\n",
    "\n",
    "# 퀵 정렬\n",
    "def quick_sort(data, key, step=False):\n",
    "    def _quick_sort(arr, low, high):\n",
    "        if low < high:\n",
    "            pivot_index = partition(arr, low, high)\n",
    "            if step:\n",
    "                print(f\"Pivot at index {pivot_index}: {arr}\")\n",
    "            _quick_sort(arr, low, pivot_index - 1)\n",
    "            _quick_sort(arr, pivot_index + 1, high)\n",
    "    \n",
    "    def partition(arr, low, high):\n",
    "        pivot = arr[high][key]\n",
    "        i = low - 1\n",
    "        for j in range(low, high):\n",
    "            if arr[j][key] <= pivot:\n",
    "                i += 1\n",
    "                arr[i], arr[j] = arr[j], arr[i]\n",
    "        arr[i + 1], arr[high] = arr[high], arr[i + 1]\n",
    "        return i + 1\n",
    "\n",
    "    _quick_sort(data, 0, len(data) - 1)\n",
    "    return data\n",
    "\n",
    "# 기수 정렬\n",
    "def radix_sort(data, key, step=False):\n",
    "    max_val = max(student[key] for student in data)\n",
    "    exp = 1\n",
    "    while max_val // exp > 0:\n",
    "        counting_sort(data, key, exp, step)\n",
    "        exp *= 10\n",
    "    return data\n",
    "\n",
    "def counting_sort(data, key, exp, step):\n",
    "    n = len(data)\n",
    "    output = [0] * n\n",
    "    count = [0] * 10\n",
    "\n",
    "    for student in data:\n",
    "        index = (student[key] // exp) % 10\n",
    "        count[index] += 1\n",
    "\n",
    "    for i in range(1, 10):\n",
    "        count[i] += count[i - 1]\n",
    "\n",
    "    for i in range(n - 1, -1, -1):\n",
    "        index = (data[i][key] // exp) % 10\n",
    "        output[count[index] - 1] = data[i]\n",
    "        count[index] -= 1\n",
    "\n",
    "    for i in range(n):\n",
    "        data[i] = output[i]\n",
    "    if step:\n",
    "        print(f\"After exp {exp}: {data}\")\n",
    "\n",
    "# 3. 메뉴 및 사용자 입력 (수정)\n",
    "def main():\n",
    "    students = generate_students(10)  # 예시로 10명의 학생 데이터를 생성\n",
    "    while True:\n",
    "        print(\"\\n=== 학생 성적 관리 시스템 ===\")\n",
    "        print(\"1. 이름을 기준으로 정렬\")\n",
    "        print(\"2. 나이를 기준으로 정렬\")\n",
    "        print(\"3. 성적을 기준으로 정렬\")\n",
    "        print(\"4. 종료\")\n",
    "        choice = input(\"메뉴를 선택하세요 (1-4): \")\n",
    "\n",
    "        if choice == \"4\":\n",
    "            print(\"프로그램을 종료합니다.\")\n",
    "            break\n",
    "\n",
    "        key_map = {\"1\": \"이름\", \"2\": \"나이\", \"3\": \"성적\"}\n",
    "        if choice in key_map:\n",
    "            key = key_map[choice]\n",
    "            while True:  # 정렬 메뉴 반복\n",
    "                print(\"\\n1. 선택 정렬\")\n",
    "                print(\"2. 삽입 정렬\")\n",
    "                print(\"3. 퀵 정렬\")\n",
    "                print(\"4. 기수 정렬 (성적 기준만 가능)\")\n",
    "                algo_choice = input(\"정렬 알고리즘을 선택하세요 (1-4): \")\n",
    "\n",
    "                algorithms = {\"1\": selection_sort, \"2\": insertion_sort, \"3\": quick_sort, \"4\": radix_sort}\n",
    "                if algo_choice in algorithms:\n",
    "                    step = input(\"단계별 출력을 보시겠습니까? (y/n): \").lower() == \"y\"\n",
    "                    data_copy = students.copy()\n",
    "                    if algo_choice == \"4\" and key != \"성적\":\n",
    "                        print(\"기수 정렬은 성적 기준으로만 사용 가능합니다.\")\n",
    "                    else:\n",
    "                        sorted_data = algorithms[algo_choice](data_copy, key, step)\n",
    "                        print(\"\\n=== 정렬 결과 ===\")\n",
    "                        for student in sorted_data:\n",
    "                            print(student)\n",
    "                    break  # 정렬 완료 후 상위 메뉴로 이동\n",
    "                else:\n",
    "                    print(\"잘못된 입력입니다. 정렬 메뉴를 다시 선택하세요.\")\n",
    "        else:\n",
    "            print(\"잘못된 입력입니다. 처음 메뉴로 돌아갑니다.\")\n",
    "\n",
    "if __name__ == \"__main__\":\n",
    "    main()\n"
   ]
  },
  {
   "cell_type": "code",
   "execution_count": null,
   "id": "778046e9-1fa7-4045-88df-fa2448de3950",
   "metadata": {},
   "outputs": [],
   "source": []
  }
 ],
 "metadata": {
  "kernelspec": {
   "display_name": "Python 3 (ipykernel)",
   "language": "python",
   "name": "python3"
  },
  "language_info": {
   "codemirror_mode": {
    "name": "ipython",
    "version": 3
   },
   "file_extension": ".py",
   "mimetype": "text/x-python",
   "name": "python",
   "nbconvert_exporter": "python",
   "pygments_lexer": "ipython3",
   "version": "3.12.2"
  }
 },
 "nbformat": 4,
 "nbformat_minor": 5
}
