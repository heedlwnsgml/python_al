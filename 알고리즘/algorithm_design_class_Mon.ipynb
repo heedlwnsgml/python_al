{
 "cells": [
  {
   "cell_type": "markdown",
   "metadata": {
    "id": "vOvayumeR-Vl"
   },
   "source": [
    "# # Brute-force method : 억지 기법\n"
   ]
  },
  {
   "cell_type": "markdown",
   "metadata": {
    "id": "z0Qapj8wcMpX"
   },
   "source": [
    "# 1. 0/1 배낭 채우기 문제(0/1 knapsack problem) :\n",
    "  - 목적: 가능한 모든 경우의 조합을 시도하여 최대 가치를 찾음 (브루트포스 접근법).\n",
    "  - 모든 가능한 부분 집합을 탐색하여 배낭 용량을 초과하지 않으면서 최대 가치를 계산\n",
    "  - 시간복잡도: O(2^n)"
   ]
  },
  {
   "cell_type": "code",
   "execution_count": 1,
   "metadata": {
    "id": "gXHwrzGgDLOn",
    "outputId": "d38f65bd-821b-40e1-f505-2ac794c2e665"
   },
   "outputs": [
    {
     "name": "stdout",
     "output_type": "stream",
     "text": [
      "[0, 0, 0]\n",
      "[1, 0, 0]\n",
      "[0, 1, 0]\n",
      "[1, 1, 0]\n",
      "[0, 0, 1]\n",
      "[1, 0, 1]\n",
      "[0, 1, 1]\n",
      "[1, 1, 1]\n"
     ]
    }
   ],
   "source": [
    "# subset은 n-비트의 이진수로 나타난 부분 집합을 의미. 출력된 각 리스트는 n개의 요소 중 어떤 것이 포함되었는지를 보여줌.\n",
    "n = 3\n",
    "\n",
    "for  i in range(2**n):\n",
    "    subset = [0] * n\n",
    "    for d in range(n):\n",
    "        subset[d] = i%2\n",
    "        i //=  2\n",
    "\n",
    "    print(subset)\n",
    "\n",
    "\n"
   ]
  },
  {
   "cell_type": "markdown",
   "metadata": {
    "id": "r15TU7FbGd5K"
   },
   "source": [
    "![image.png](data:image/png;base64,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)"
   ]
  },
  {
   "cell_type": "code",
   "execution_count": 6,
   "metadata": {
    "colab": {
     "base_uri": "https://localhost:8080/"
    },
    "id": "ZgXYUbu4SHD0",
    "outputId": "26419d22-9789-41c7-d76d-5f880ddbff01"
   },
   "outputs": [
    {
     "name": "stdout",
     "output_type": "stream",
     "text": [
      "최대 가치: 290\n",
      "선택된 물건 인덱스: [1, 2, 3]\n",
      "선택된 물건 무게: [20, 30, 25]\n",
      "선택된 물건 가치: [100, 120, 70]\n"
     ]
    }
   ],
   "source": [
    "def knapsack01_bruteforce(weights, values, W):\n",
    "    \"\"\"\n",
    "    1. 0/1 배낭 문제를 억지 기법으로 해결.\n",
    "    2. 최대 가치와 해당 물건 반환\n",
    "    :param weights : 물건별 무게 리스트\n",
    "    :param values : 물건별 가치 리스트\n",
    "    :param W : 배낭 용량\n",
    "    :return 최대 가치, 선택된 물건 인덱스 리스트, 선택된 물건 무게 리스트, 선택된 물건 가치 리스트\n",
    "    \"\"\"\n",
    "\n",
    "    n = len(weights)  # 전체 물건의 수\n",
    "    best_value = 0  # 최대 가치 초기화\n",
    "    best_subset = []  # 최대 가치일 때의 선택된 물건 저장\n",
    "\n",
    "    for i in range(2**n):  # bruteforce 기법\n",
    "        # 1. 부분집합 i -> 이진수 부분집합 표현\n",
    "        subset = [0] * n\n",
    "        temp = i\n",
    "        for d in range(n):\n",
    "            subset[d] = temp % 2\n",
    "            temp //= 2\n",
    "\n",
    "        # 2. 현재 부분 집합 i 즉, subset의 무게와 가치 계산\n",
    "        sum_weight = 0\n",
    "        sum_value = 0\n",
    "\n",
    "        current_subset = []\n",
    "        for d in range(n):\n",
    "            if subset[d] == 1:  # 배낭에 물건을 포함시킬 때\n",
    "                sum_weight += weights[d]\n",
    "                sum_value += values[d]\n",
    "                current_subset.append(d)\n",
    "\n",
    "        # 3. 배낭 용량을 초과하지 않는 경우 최대 가치 갱신\n",
    "        if sum_weight <= W and sum_value > best_value:\n",
    "            best_value = sum_value\n",
    "            best_subset = current_subset\n",
    "\n",
    "    # 선택된 물건의 무게와 가치를 계산\n",
    "    selected_weights = [weights[i] for i in best_subset]\n",
    "    selected_values = [values[i] for i in best_subset]\n",
    "\n",
    "    return best_value, best_subset, selected_weights, selected_values\n",
    "\n",
    "\n",
    "# 테스트 데이터\n",
    "weights = [10, 20, 30, 25, 35]  # 물건별 무게\n",
    "values = [60, 100, 120, 70, 85]  # 물건별 가치\n",
    "W = 80  # 배낭 용량\n",
    "\n",
    "# 실행\n",
    "result_value, result_items, result_weights, result_values = knapsack01_bruteforce(weights, values, W)\n",
    "print(\"최대 가치:\", result_value)\n",
    "print(\"선택된 물건 인덱스:\", result_items)\n",
    "print(\"선택된 물건 무게:\", result_weights)\n",
    "print(\"선택된 물건 가치:\", result_values)\n"
   ]
  },
  {
   "cell_type": "markdown",
   "metadata": {
    "id": "PYLvsE2cL2Nn"
   },
   "source": [
    "# #. Greedy method : 탐욕 기법"
   ]
  },
  {
   "cell_type": "markdown",
   "metadata": {
    "id": "1523zyJ2flaX"
   },
   "source": [
    "# 1. 분할 가능한 배낭 채우기 :"
   ]
  },
  {
   "cell_type": "code",
   "execution_count": 35,
   "metadata": {
    "colab": {
     "base_uri": "https://localhost:8080/"
    },
    "id": "NKFEJ9ArfxVh",
    "outputId": "4906db12-a422-4314-ee31-a66ab9d68ab7"
   },
   "outputs": [
    {
     "name": "stdout",
     "output_type": "stream",
     "text": [
      "최대 가치: 144.0\n",
      "선택된 물건 정보:\n",
      "  - 물건 인덱스: 1, 무게: 6, 가치: 48.0, 비율: 1.0\n",
      "  - 물건 인덱스: 1, 무게: 6, 가치: 48.0, 비율: 1.0\n",
      "  - 물건 인덱스: 1, 무게: 6, 가치: 48.0, 비율: 1.0\n"
     ]
    }
   ],
   "source": [
    "def knapsackFrac(weights, values, W): #무게, 가치, 용량 순서\n",
    "    \"\"\"\n",
    "    분할 가능한 배낭 문제를 탐욕적 기법으로 해결\n",
    "    탐욕 조건: 단위 무게당 가격이 가장 높은 물건부터 넣기\n",
    "\n",
    "    :param weights: 물건별 무게 리스트\n",
    "    :param values: 물건별 가치 리스트\n",
    "    :param W: 배낭 용량\n",
    "    :return: 최대 가치, 선택된 물건 정보 (인덱스, 실제 무게, 실제 가치, 비율)\n",
    "    \"\"\"\n",
    "    n = len(weights)\n",
    "    items = []\n",
    "    \n",
    "    # 1. 단위 무게당 가치를 계산하고 리스트에 추가\n",
    "    for i in range(n):\n",
    "        unit_value = values[i] / weights[i]\n",
    "        items.append((unit_value, weights[i], values[i], i))  # 단위 가치, 무게, 가치, 인덱스\n",
    "\n",
    "    # 2. 단위 무게당 가치를 기준으로 내림차순 정렬\n",
    "    items.sort(reverse=True, key=lambda x: x[0])\n",
    "\n",
    "    # 3. 탐욕적 선택으로 배낭 채우기\n",
    "    max_value = 0  # 최대 가치\n",
    "    selected_items = []  # 선택된 물건 정보\n",
    "\n",
    "    for item in items:\n",
    "        if W <= 0:\n",
    "            break\n",
    "        if W >= weight:  # 물건 전체를 넣을 수 있는 경우\n",
    "            W -= weight\n",
    "            max_value += value\n",
    "            selected_items.append((index, weight, value, 1.0))  # 인덱스, 실제 무게, 실제 가치, 비율 1.0\n",
    "        else:  # 일부만 넣어야 하는 경우\n",
    "            fraction = W / weight\n",
    "            max_value += value * fraction\n",
    "            selected_items.append((index, W, value * fraction, fraction))  # 인덱스, 실제 무게, 실제 가치, 비율\n",
    "            W = 0  # 배낭이 꽉 찼으므로 종료\n",
    "\n",
    "    # 최대 가치 및 선택된 물건 정보 반환\n",
    "    return max_value, selected_items\n",
    "\n",
    "\n",
    "# 테스트 데이터\n",
    "values = [12, 10, 8]  # 물건별 무게\n",
    "weights = [120, 80, 60]  # 물건별 가치\n",
    "capacity = 18  # 배낭 용량\n",
    "\n",
    "# 실행\n",
    "max_value, selected_items = knapsackFrac(weights, values, capacity)\n",
    "\n",
    "# 결과 출력\n",
    "print(f\"최대 가치: {max_value}\")\n",
    "print(\"선택된 물건 정보:\")\n",
    "for index, weight, value, fraction in selected_items:\n",
    "    print(f\"  - 물건 인덱스: {index}, 무게: {weight}, 가치: {value}, 비율: {fraction}\")"
   ]
  },
  {
   "cell_type": "markdown",
   "metadata": {},
   "source": [
    "# #. 분할 정복 기법(Divide and Conquer method)\n",
    "- 병합 정렬(Merge Sort)\n",
    "    - O(n log n)"
   ]
  },
  {
   "cell_type": "markdown",
   "metadata": {
    "id": "m5AtUu2Tz4AH"
   },
   "source": [
    "# 1. 병합 정렬"
   ]
  },
  {
   "cell_type": "code",
   "execution_count": 38,
   "metadata": {
    "colab": {
     "base_uri": "https://localhost:8080/"
    },
    "id": "xz7u7xazz8By",
    "outputId": "b9772cd7-9c09-4b8f-c711-7241cc8c0a77"
   },
   "outputs": [
    {
     "name": "stdout",
     "output_type": "stream",
     "text": [
      "정렬 전 배열: [1, 3, 7, 8, 2, 5, 9, 6]\n",
      "분할 단계: left = 0, mid = 3, right = 7, 배열 상태 = [1, 3, 7, 8, 2, 5, 9, 6]\n",
      "분할 단계: left = 0, mid = 1, right = 3, 배열 상태 = [1, 3, 7, 8]\n",
      "분할 단계: left = 0, mid = 0, right = 1, 배열 상태 = [1, 3]\n",
      "병합 단계 : left =0, mid = 0, right = 1, 배열 상태 = [1, 3]\n",
      "분할 단계: left = 2, mid = 2, right = 3, 배열 상태 = [7, 8]\n",
      "병합 단계 : left =2, mid = 2, right = 3, 배열 상태 = [7, 8]\n",
      "병합 단계 : left =0, mid = 1, right = 3, 배열 상태 = [1, 3, 7, 8]\n",
      "분할 단계: left = 4, mid = 5, right = 7, 배열 상태 = [2, 5, 9, 6]\n",
      "분할 단계: left = 4, mid = 4, right = 5, 배열 상태 = [2, 5]\n",
      "병합 단계 : left =4, mid = 4, right = 5, 배열 상태 = [2, 5]\n",
      "분할 단계: left = 6, mid = 6, right = 7, 배열 상태 = [9, 6]\n",
      "병합 단계 : left =6, mid = 6, right = 7, 배열 상태 = [6, 9]\n",
      "병합 단계 : left =4, mid = 5, right = 7, 배열 상태 = [2, 5, 6, 9]\n",
      "병합 단계 : left =0, mid = 3, right = 7, 배열 상태 = [1, 2, 3, 5, 6, 7, 8, 9]\n",
      "정렬 후 배열: [1, 2, 3, 5, 6, 7, 8, 9]\n"
     ]
    }
   ],
   "source": [
    "# 각 병합 단계에서의 병합 후 배열 내용을 출력하도록 수정\n",
    "# 분할 단계에서 배열의 상태를 출력하도록 코드를 수정\n",
    "\"\"\"\n",
    "\n",
    "    - 병합 정렬 함수, 배열 A를 left부터 right까지 정렬\n",
    "    - DC 기법 사용\n",
    "    :param A : 정렬한 배열\n",
    "    :param left : 배열의 시작 인덱스\n",
    "    :param right : 배열의 끝 인덱스\n",
    "\n",
    "\"\"\"\n",
    "\n",
    "def merge_sort(A, left, right):\n",
    "    if left < right:\n",
    "        # 1. 중간 인덱스 계산\n",
    "        mid = (left + right) // 2\n",
    "\n",
    "        # 분할 단계 결과 출력\n",
    "        print(f\"분할 단계: left = {left}, mid = {mid}, right = {right}, 배열 상태 = {A[left:right + 1]}\")\n",
    "\n",
    "        # 2. 왼쪽 부분 배열 정렬\n",
    "        merge_sort(A, left, mid)\n",
    "\n",
    "        # 3. 오른쪽 부분 배열 정렬\n",
    "        merge_sort(A, mid + 1, right)\n",
    "\n",
    "        # 4. 정렬된 두 부분 병합\n",
    "        merge(A, left, mid, right)\n",
    "\n",
    "\n",
    "def merge(A, left, mid, right):\n",
    "\n",
    "    #1. 병합을 위한 임시 리스트 생성\n",
    "    sorted_temp = [0] * (right - left + 1)\n",
    "    i, j, k = left, mid + 1, 0 #왼쪽, 오른쪽 병합을 위한 임시 리스트 인덱스\n",
    "\n",
    "    #2. 두 부분 배열 비교하며 병합\n",
    "    while i <= mid and j <= right:\n",
    "        if A[i] <= A[j]:\n",
    "            sorted_temp[k] = A[i]\n",
    "            i, k = i+1, k+1\n",
    "        else:\n",
    "            sorted_temp[k] = A[j]\n",
    "            j, k = j+1, k+1\n",
    "\n",
    "    #3. 남은 오른쪽 부분 배열 복사\n",
    "    while j <= right:\n",
    "        sorted_temp[k] = A[j]\n",
    "        j, k = j+1, k + 1\n",
    "\n",
    "    #4. 남은 왼쪽 부분 배열 검사\n",
    "    while i <= mid:\n",
    "        sorted_temp[k] = A[i]\n",
    "        i, k = i+1, k+1\n",
    "\n",
    "    #5. 임시 배열의 결과를 원래 배열에 복사\n",
    "    for k in range(len(sorted_temp)):\n",
    "        A[left + k] = sorted_temp[k]\n",
    "\n",
    "    #6. 병합 단계 결과 출력\n",
    "    print(f\"병합 단계 : left ={left}, mid = {mid}, right = {right}, 배열 상태 = {A[left:right + 1]}\")\n",
    "\n",
    "# 테스트 코드\n",
    "if __name__ == \"__main__\":\n",
    "    # 테스트 데이터\n",
    "    arr = [1, 3, 7, 8, 2, 5, 9, 6]\n",
    "    print(\"정렬 전 배열:\", arr)\n",
    "\n",
    "    # 병합 정렬 실행\n",
    "    merge_sort(arr, 0, len(arr) - 1)\n",
    "\n",
    "    print(\"정렬 후 배열:\", arr)\n"
   ]
  },
  {
   "cell_type": "markdown",
   "metadata": {
    "id": "7pdDRzdeA-Wy"
   },
   "source": [
    "# #. 동적 계획법 (Dynamic Programming)"
   ]
  },
  {
   "cell_type": "markdown",
   "metadata": {
    "id": "2QsaISXwBAB8"
   },
   "source": [
    "# 1. fibonacci 수열"
   ]
  },
  {
   "cell_type": "code",
   "execution_count": 1,
   "metadata": {
    "id": "LL6Yyc_ABGur"
   },
   "outputs": [
    {
     "name": "stdout",
     "output_type": "stream",
     "text": [
      "계산 중 : fib4\n",
      "계산 중 : fib3\n",
      "계산 중 : fib2\n",
      "계산 중 : fib1\n",
      "메모이제이션 : fib(1) = 1\n",
      "계산 중 : fib0\n",
      "메모이제이션 : fib(0) = 0\n",
      "메모이제이션 : fib(2) = 1\n",
      "메모 참조 : fib(1) = 1\n",
      "메모이제이션 : fib(3) = 2\n",
      "메모 참조 : fib(2) = 1\n",
      "메모이제이션 : fib(4) = 3\n",
      "피보나치 수열의 4번째 항: 3\n"
     ]
    }
   ],
   "source": [
    "#  메모이제이션 과정에서 각 계산 단계와 저장된 값을 출력하도록 수정한 코드\n",
    "def fib_top_down_dp_memo(n, memo={}):\n",
    "    \"\"\"\n",
    "    - 피보나치 수열을 메모이제이션을 사용한 Top-Down 방식으로 계산\n",
    "    - 부분 문제의 개수 : n이므로 성능은 시간복잡도와 공간 복잡도는 각각 O(n)\n",
    "    :param n : 계산할 피보나치 수의 위치\n",
    "    :param memo : 이미 계산된 피보나치 값을 저장하는 딕셔너리\n",
    "    :return : n번째 피보나치 수\n",
    "    \"\"\"\n",
    "    if n not in memo: # 메모에 없는 경ㅇ우 계산\n",
    "        print(f\"계산 중 : fib{n}\")\n",
    "        if n <= 1: #기본조건 n=0 or n=1\n",
    "            memo[n] = n\n",
    "        else:\n",
    "            memo[n] = fib_top_down_dp_memo(n-1, memo) + fib_top_down_dp_memo(n-2, memo)\n",
    "            \n",
    "        print(f\"메모이제이션 : fib({n}) = {memo[n]}\") # 저장된 값 출력\n",
    "\n",
    "    else:\n",
    "        print(f\"메모 참조 : fib({n}) = {memo[n]}\") # 이미 저장된 값 참조\n",
    "\n",
    "    return memo[n]\n",
    "\n",
    "\n",
    "    \n",
    "\n",
    "\n",
    "\n",
    "# 테스트 코드\n",
    "if __name__ == \"__main__\":\n",
    "    # 테스트 데이터\n",
    "    n = 4\n",
    "    print(f\"피보나치 수열의 {n}번째 항:\", fib_top_down_dp_memo(n))"
   ]
  },
  {
   "cell_type": "code",
   "execution_count": 5,
   "metadata": {
    "id": "IdFcsETIvWxz"
   },
   "outputs": [
    {
     "name": "stdout",
     "output_type": "stream",
     "text": [
      "초기 테이블 : [0, 1, None, None, None, None, None, None, None, None, None]\n",
      "테이블 상태 (i=2): [0, 1, 1, None, None, None, None, None, None, None, None]\n",
      "테이블 상태 (i=3): [0, 1, 1, 2, None, None, None, None, None, None, None]\n",
      "테이블 상태 (i=4): [0, 1, 1, 2, 3, None, None, None, None, None, None]\n",
      "테이블 상태 (i=5): [0, 1, 1, 2, 3, 5, None, None, None, None, None]\n",
      "테이블 상태 (i=6): [0, 1, 1, 2, 3, 5, 8, None, None, None, None]\n",
      "테이블 상태 (i=7): [0, 1, 1, 2, 3, 5, 8, 13, None, None, None]\n",
      "테이블 상태 (i=8): [0, 1, 1, 2, 3, 5, 8, 13, 21, None, None]\n",
      "테이블 상태 (i=9): [0, 1, 1, 2, 3, 5, 8, 13, 21, 34, None]\n",
      "테이블 상태 (i=10): [0, 1, 1, 2, 3, 5, 8, 13, 21, 34, 55]\n",
      "Fibonacci(10) = 55\n"
     ]
    }
   ],
   "source": [
    "# 테이블화과정에서 각 계산 단계와 저장된 값을 출력하도록 수정한 코드\n",
    "# 반복문과 테이블을 결합하여 최적 부분 구조를 반복적으로 계산하지 않도록 효율적으로 문제를 해\n",
    "# 테스트 코드\n",
    "def fib_bottomUP_dp_table(n):\n",
    "    \"\"\"\n",
    "    - 피보나치 수열을 테이블화를 이용한 바텀업 방식으로 계산\n",
    "    :param n : 계싼할 피보나치 수의 위치\n",
    "    :return : n번째 피보나치의 수\n",
    "    \"\"\"\n",
    "    # 1. 1차원 구조의 테이블 생성 및 초기화\n",
    "    f = [None] * (n + 1)\n",
    "    #base case\n",
    "    f[0] = 0\n",
    "    f[1] = 1\n",
    "\n",
    "    print(f\"초기 테이블 : {f}\")\n",
    "\n",
    "    # 2. 테이블 채우기 (bottom-up) : general case\n",
    "    for i in range(2, n+1):\n",
    "        f[i] = f[i-1] + f[i-2]\n",
    "        print(f\"테이블 상태 (i={i}): {f}\")\n",
    "\n",
    "    return f[n]\n",
    "\n",
    "if __name__ == \"__main__\":\n",
    "    # 테스트 데이터\n",
    "    test_cases = [10]\n",
    "\n",
    "    for n in test_cases:\n",
    "        print(f\"Fibonacci({n}) = {fib_bottomUP_dp_table(n)}\")"
   ]
  },
  {
   "cell_type": "markdown",
   "metadata": {
    "id": "_ikB9dH6BoYS"
   },
   "source": [
    "# 2. 배낭 채우기 (0/1 Kanpsack problem)"
   ]
  },
  {
   "cell_type": "code",
   "execution_count": 12,
   "metadata": {
    "id": "R8rZvbdeBpcw"
   },
   "outputs": [
    {
     "name": "stdout",
     "output_type": "stream",
     "text": [
      "물건 1, (무게 = 2, 가치 = 3) 처리 후 :\n",
      "[0, 0, 0, 0, 0, 0]\n",
      "[0, 0, 3, 3, 3, 3]\n",
      "[0, 0, 0, 0, 0, 0]\n",
      "[0, 0, 0, 0, 0, 0]\n",
      "물건 2, (무게 = 3, 가치 = 4) 처리 후 :\n",
      "[0, 0, 0, 0, 0, 0]\n",
      "[0, 0, 3, 3, 3, 3]\n",
      "[0, 0, 3, 4, 4, 7]\n",
      "[0, 0, 0, 0, 0, 0]\n",
      "물건 3, (무게 = 4, 가치 = 5) 처리 후 :\n",
      "[0, 0, 0, 0, 0, 0]\n",
      "[0, 0, 3, 3, 3, 3]\n",
      "[0, 0, 3, 4, 4, 7]\n",
      "[0, 0, 3, 4, 5, 7]\n",
      "\n",
      "배낭 용량 5에서의 최대 가치: 7\n",
      "선택된 물건 번호: [1, 2]\n",
      "선택된 물건 정보:\n",
      "  물건 1: 무게=2, 가치=3\n",
      "  물건 2: 무게=3, 가치=4\n"
     ]
    }
   ],
   "source": [
    "def knapSack_dp(W, wt, val, n):\n",
    "    \"\"\"\n",
    "    - 0/1 배낭 문제를 동적 계획법으로 해결, 테이블화 과정을 출력\n",
    "    - 시간복잡도 : O(nW), 공간복잡도 O(nW)\n",
    "    :param W : 배낭의 용량\n",
    "    :param wt : 물건별 무게 리스트\n",
    "    :param val : 물건별 가치 리스트\n",
    "    :param n : 물건의 갯수\n",
    "    :return : 배낭에 담을 수 있는 최대 가치 (A[n][W] & 선택된 물건 정보)\n",
    "    \"\"\"\n",
    "    # 1. 2차원 DP 테이블 생성 (크기 : (n+1) * (W+1))\n",
    "    A = []\n",
    "    for i in range(n + 1):  # \"물건의 개수 + 1\"\n",
    "        row = [0] * (W + 1)  # 배낭 용량 + 1 크기의 리스트 초기화\n",
    "        A.append(row)  # 각 행을 DP 테이블에 추가\n",
    "\n",
    "    # 2. A[n][W]에 대한 테이블 채우기\n",
    "    for i in range(1, n + 1):  # i는 물건 번호\n",
    "        for w in range(1, W + 1):  # W는 현재 남아 있는 배낭 용량\n",
    "            if wt[i - 1] > w:  # i번째 물건이 현재 배낭 용량 W를 초과하면\n",
    "                A[i][w] = A[i - 1][w]  # 이전 물건의 값 가져오기\n",
    "            else:\n",
    "                valWith = val[i - 1] + A[i - 1][w - wt[i - 1]]\n",
    "                valWithout = A[i - 1][w]\n",
    "                A[i][w] = max(valWith, valWithout)  # 둘 중 최대값 선택\n",
    "\n",
    "        # 각 물건 처리 후 DP 테이블 상태 출력\n",
    "        print(f\"물건 {i}, (무게 = {wt[i - 1]}, 가치 = {val[i - 1]}) 처리 후 :\")\n",
    "        for row in A:\n",
    "            print(row)\n",
    "\n",
    "    # 3. 역추적 : 선택된 물건 찾기\n",
    "    selected_items = []\n",
    "    w = W\n",
    "    for i in range(n, 0, -1):  # DP 테이블 역추적\n",
    "        if A[i][w] != A[i - 1][w]:  # 물건 i가 배낭에 포함된 경우\n",
    "            selected_items.append(i)\n",
    "            w -= wt[i - 1]\n",
    "    selected_items.reverse()  # 선택된 물건 번호를 원래 순서대로 되돌림\n",
    "\n",
    "    return A[n][W], selected_items\n",
    "\n",
    "\n",
    "# 테스트 코드\n",
    "if __name__ == \"__main__\":\n",
    "    # 테스트 데이터\n",
    "    wt = [2, 3, 4]  # 물건별 무게 리스트\n",
    "    val = [3, 4, 5]  # 물건별 가치 리스트\n",
    "    W = 5  # 배낭 용량\n",
    "    n = len(wt)  # 물건의 개수\n",
    "\n",
    "    # 실행\n",
    "    result, selected_items = knapSack_dp(W, wt, val, n)\n",
    "    print(f\"\\n배낭 용량 {W}에서의 최대 가치: {result}\")\n",
    "    print(f\"선택된 물건 번호: {selected_items}\")\n",
    "    print(\"선택된 물건 정보:\")\n",
    "    for i in selected_items:\n",
    "        print(f\"  물건 {i}: 무게={wt[i - 1]}, 가치={val[i - 1]}\")\n"
   ]
  },
  {
   "cell_type": "markdown",
   "metadata": {
    "id": "YQ7zUFgeBxrt"
   },
   "source": [
    "# #. 공간으로 시간 벌기 : 해싱"
   ]
  },
  {
   "cell_type": "code",
   "execution_count": null,
   "metadata": {
    "id": "S-dbLWoABywd"
   },
   "outputs": [],
   "source": []
  }
 ],
 "metadata": {
  "colab": {
   "provenance": []
  },
  "kernelspec": {
   "display_name": "Python 3 (ipykernel)",
   "language": "python",
   "name": "python3"
  },
  "language_info": {
   "codemirror_mode": {
    "name": "ipython",
    "version": 3
   },
   "file_extension": ".py",
   "mimetype": "text/x-python",
   "name": "python",
   "nbconvert_exporter": "python",
   "pygments_lexer": "ipython3",
   "version": "3.12.2"
  }
 },
 "nbformat": 4,
 "nbformat_minor": 4
}
