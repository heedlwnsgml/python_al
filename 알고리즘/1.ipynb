{
 "cells": [
  {
   "cell_type": "code",
   "execution_count": null,
   "id": "0d6ed3fe-6623-4c8c-8f13-6a77c132b661",
   "metadata": {},
   "outputs": [
    {
     "name": "stdout",
     "output_type": "stream",
     "text": [
      "\n",
      "메뉴:\n",
      "1. 도서 추가\n",
      "2. 도서 삭제\n",
      "3. 도서 검색\n",
      "4. 도서 목록 출력\n",
      "5. 도서 수 확인\n",
      "6. 프로그램 종료\n"
     ]
    },
    {
     "name": "stdin",
     "output_type": "stream",
     "text": [
      "정수를 입력하세요:  1\n",
      "도서 제목을 입력하세요:  1\n",
      "도서 저자를 입력하세요:  1\n",
      "삽입할 위치를 입력하세요 (0부터 시작):  1\n"
     ]
    },
    {
     "name": "stdout",
     "output_type": "stream",
     "text": [
      "잘못된 위치입니다.\n",
      "도서 목록이 비어 있습니다.\n",
      "\n",
      "메뉴:\n",
      "1. 도서 추가\n",
      "2. 도서 삭제\n",
      "3. 도서 검색\n",
      "4. 도서 목록 출력\n",
      "5. 도서 수 확인\n",
      "6. 프로그램 종료\n"
     ]
    },
    {
     "name": "stdin",
     "output_type": "stream",
     "text": [
      "정수를 입력하세요:  1\n",
      "도서 제목을 입력하세요:  2\n",
      "도서 저자를 입력하세요:  2\n",
      "삽입할 위치를 입력하세요 (0부터 시작):  2\n"
     ]
    },
    {
     "name": "stdout",
     "output_type": "stream",
     "text": [
      "잘못된 위치입니다.\n",
      "도서 목록이 비어 있습니다.\n",
      "\n",
      "메뉴:\n",
      "1. 도서 추가\n",
      "2. 도서 삭제\n",
      "3. 도서 검색\n",
      "4. 도서 목록 출력\n",
      "5. 도서 수 확인\n",
      "6. 프로그램 종료\n"
     ]
    },
    {
     "name": "stdin",
     "output_type": "stream",
     "text": [
      "정수를 입력하세요:  1\n",
      "도서 제목을 입력하세요:  3\n",
      "도서 저자를 입력하세요:  3\n",
      "삽입할 위치를 입력하세요 (0부터 시작):  3\n"
     ]
    },
    {
     "name": "stdout",
     "output_type": "stream",
     "text": [
      "잘못된 위치입니다.\n",
      "도서 목록이 비어 있습니다.\n",
      "\n",
      "메뉴:\n",
      "1. 도서 추가\n",
      "2. 도서 삭제\n",
      "3. 도서 검색\n",
      "4. 도서 목록 출력\n",
      "5. 도서 수 확인\n",
      "6. 프로그램 종료\n"
     ]
    },
    {
     "name": "stdin",
     "output_type": "stream",
     "text": [
      "정수를 입력하세요:  1\n",
      "도서 제목을 입력하세요:  0\n",
      "도서 저자를 입력하세요:  0\n",
      "삽입할 위치를 입력하세요 (0부터 시작):  0\n"
     ]
    },
    {
     "name": "stdout",
     "output_type": "stream",
     "text": [
      "현재 도서 목록:\n",
      "제목: 0, 저자: 0\n",
      "\n",
      "메뉴:\n",
      "1. 도서 추가\n",
      "2. 도서 삭제\n",
      "3. 도서 검색\n",
      "4. 도서 목록 출력\n",
      "5. 도서 수 확인\n",
      "6. 프로그램 종료\n"
     ]
    },
    {
     "name": "stdin",
     "output_type": "stream",
     "text": [
      "정수를 입력하세요:  4\n"
     ]
    },
    {
     "name": "stdout",
     "output_type": "stream",
     "text": [
      "현재 도서 목록:\n",
      "제목: 0, 저자: 0\n",
      "\n",
      "메뉴:\n",
      "1. 도서 추가\n",
      "2. 도서 삭제\n",
      "3. 도서 검색\n",
      "4. 도서 목록 출력\n",
      "5. 도서 수 확인\n",
      "6. 프로그램 종료\n"
     ]
    }
   ],
   "source": [
    "class Node:\n",
    "    def __init__(self, book, next=None):\n",
    "        self.data = book  # 도서(Book) 객체를 저장\n",
    "        self.link = next  # 다음 노드로의 참조를 저장\n",
    "\n",
    "class Book:\n",
    "    def __init__(self, title, author):\n",
    "        self.title = title\n",
    "        self.author = author\n",
    "\n",
    "    def __str__(self):\n",
    "        return f\"제목: {self.title}, 저자: {self.author}\"\n",
    "\n",
    "class BookLinkedList:\n",
    "    def __init__(self):\n",
    "        self.head = None  # 처음에 비어 있는 연결 리스트\n",
    "\n",
    "    def isEmpty(self):\n",
    "        \"\"\"리스트가 비어 있는지 확인\"\"\"\n",
    "        return self.head is None\n",
    "\n",
    "    def getNode(self, pos):\n",
    "        \"\"\"특정 위치에 있는 노드를 반환\"\"\"\n",
    "        if pos < 0:\n",
    "            return None\n",
    "        ptr = self.head\n",
    "        for i in range(pos):\n",
    "            if ptr is None:\n",
    "                return None\n",
    "            ptr = ptr.link\n",
    "        return ptr\n",
    "\n",
    "    def getEntry(self, pos):\n",
    "        \"\"\"특정 위치에 있는 노드의 도서 데이터 가져오기\"\"\"\n",
    "        node = self.getNode(pos)\n",
    "        return None if node is None else node.data\n",
    "\n",
    "    def insert(self, pos, title, author):\n",
    "        \"\"\"특정 위치에 새 도서를 삽입\"\"\"\n",
    "        book = Book(title, author)\n",
    "        node = Node(book)\n",
    "        if pos == 0:  # 맨 앞에 삽입하는 경우\n",
    "            node.link = self.head\n",
    "            self.head = node\n",
    "        else:\n",
    "            before = self.getNode(pos - 1)\n",
    "            if before is None:  # 리스트의 끝을 넘어간 위치\n",
    "                print(\"잘못된 위치입니다.\")\n",
    "                return\n",
    "            node.link = before.link\n",
    "            before.link = node\n",
    "\n",
    "    def delete(self, pos):\n",
    "        \"\"\"특정 위치의 도서를 삭제\"\"\"\n",
    "        if self.isEmpty():\n",
    "            print(\"삭제할 도서가 없습니다.\")\n",
    "            return\n",
    "\n",
    "        if pos == 0:  # 첫 번째 도서를 삭제하는 경우\n",
    "            self.head = self.head.link\n",
    "        else:\n",
    "            before = self.getNode(pos - 1)\n",
    "            if before is None or before.link is None:  # 잘못된 위치\n",
    "                print(\"잘못된 위치입니다.\")\n",
    "                return\n",
    "            before.link = before.link.link\n",
    "\n",
    "    def search(self, title):\n",
    "        \"\"\"도서 제목으로 검색하여 해당 도서의 저자 정보 출력\"\"\"\n",
    "        ptr = self.head\n",
    "        while ptr is not None:\n",
    "            if ptr.data.title == title:\n",
    "                print(f\"'{title}' 도서가 있습니다. 저자: {ptr.data.author}\")\n",
    "                return\n",
    "            ptr = ptr.link\n",
    "        print(f\"'{title}' 도서는 목록에 없습니다.\")\n",
    "\n",
    "    def size(self):\n",
    "        \"\"\"도서 목록의 총 도서 개수를 반환\"\"\"\n",
    "        count = 0\n",
    "        ptr = self.head\n",
    "        while ptr is not None:\n",
    "            count += 1\n",
    "            ptr = ptr.link\n",
    "        return count\n",
    "\n",
    "    def display(self):\n",
    "        \"\"\"도서 목록을 출력\"\"\"\n",
    "        if self.isEmpty():\n",
    "            print(\"도서 목록이 비어 있습니다.\")\n",
    "            return\n",
    "\n",
    "        print(\"현재 도서 목록:\")\n",
    "        ptr = self.head\n",
    "        while ptr is not None:\n",
    "            print(ptr.data)\n",
    "            ptr = ptr.link\n",
    "\n",
    "# 도서 관리 프로그램 실행\n",
    "library = BookLinkedList()\n",
    "\n",
    "def menu():\n",
    "    print(\"\\n메뉴:\")\n",
    "    print(\"1. 도서 추가\")\n",
    "    print(\"2. 도서 삭제\")\n",
    "    print(\"3. 도서 검색\")\n",
    "    print(\"4. 도서 목록 출력\")\n",
    "    print(\"5. 도서 수 확인\")\n",
    "    print(\"6. 프로그램 종료\")\n",
    "\n",
    "choice = 0\n",
    "while choice != 6:\n",
    "    menu()\n",
    "    choice = int(input(\"정수를 입력하세요: \"))\n",
    "\n",
    "    if choice == 1:\n",
    "        title = input(\"도서 제목을 입력하세요: \")\n",
    "        author = input(\"도서 저자를 입력하세요: \")\n",
    "        pos = int(input(\"삽입할 위치를 입력하세요 (0부터 시작): \"))\n",
    "        library.insert(pos, title, author)\n",
    "        library.display()\n",
    "\n",
    "    elif choice == 2:\n",
    "        pos = int(input(\"삭제할 도서의 위치를 입력하세요 (0부터 시작): \"))\n",
    "        library.delete(pos)\n",
    "        library.display()\n",
    "\n",
    "    elif choice == 3:\n",
    "        title = input(\"검색할 도서 제목을 입력하세요: \")\n",
    "        library.search(title)\n",
    "\n",
    "    elif choice == 4:\n",
    "        library.display()\n",
    "\n",
    "    elif choice == 5:\n",
    "        print(f\"현재 도서 수: {library.size()}\")\n",
    "\n",
    "    elif choice == 6:\n",
    "        print(\"프로그램을 종료합니다.\")\n",
    "\n",
    "    else:\n",
    "        print(\"잘못된 선택입니다. 다시 입력하세요.\")\n"
   ]
  },
  {
   "cell_type": "code",
   "execution_count": null,
   "id": "f24ede42-44d0-464d-ad36-1b94f0ed125d",
   "metadata": {},
   "outputs": [],
   "source": []
  }
 ],
 "metadata": {
  "kernelspec": {
   "display_name": "Python 3 (ipykernel)",
   "language": "python",
   "name": "python3"
  },
  "language_info": {
   "codemirror_mode": {
    "name": "ipython",
    "version": 3
   },
   "file_extension": ".py",
   "mimetype": "text/x-python",
   "name": "python",
   "nbconvert_exporter": "python",
   "pygments_lexer": "ipython3",
   "version": "3.12.2"
  }
 },
 "nbformat": 4,
 "nbformat_minor": 5
}
