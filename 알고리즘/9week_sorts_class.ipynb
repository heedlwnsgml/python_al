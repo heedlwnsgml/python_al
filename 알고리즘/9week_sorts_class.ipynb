{
 "cells": [
  {
   "cell_type": "markdown",
   "metadata": {
    "id": "Z19L9ivdsecm"
   },
   "source": [
    "# #. 비교 기반 정렬 알고리즘:\n",
    "- 선택 정렬\n",
    "- 삽입 정렬\n",
    "- 퀵 정렬"
   ]
  },
  {
   "cell_type": "markdown",
   "metadata": {
    "id": "18c_2G-nwoS5"
   },
   "source": [
    "# 1. Selection Sort"
   ]
  },
  {
   "cell_type": "code",
   "execution_count": 1,
   "metadata": {
    "id": "2e8f0X7hxtGR"
   },
   "outputs": [],
   "source": [
    "#=========================================================\n",
    "# 코드 6.1: 선택 정렬 알고리즘(제자리 정렬 방식)\n",
    "def selection_sort(A):\n",
    "    n = len(A)\n",
    "    for i in range(0, n-1,1):\n",
    "        least = i\n",
    "        for j in range(i+1, n):\n",
    "            if A[j] < A[least]:\n",
    "                least = j\n",
    "        A[i], A[least] = A[least], A[i]\n",
    "\n",
    "        print(\"   Step %2d =\"%(i+1), A)\n",
    "\n",
    "\n"
   ]
  },
  {
   "cell_type": "code",
   "execution_count": 2,
   "metadata": {
    "id": "sxNuDwPV2RXU"
   },
   "outputs": [
    {
     "name": "stdout",
     "output_type": "stream",
     "text": [
      "\n",
      "선택정렬 테스트\n",
      "Original  : [6, 3, 7, 4, 9, 1, 5, 2, 8]\n",
      "   Step  1 = [1, 3, 7, 4, 9, 6, 5, 2, 8]\n",
      "   Step  2 = [1, 2, 7, 4, 9, 6, 5, 3, 8]\n",
      "   Step  3 = [1, 2, 3, 4, 9, 6, 5, 7, 8]\n",
      "   Step  4 = [1, 2, 3, 4, 9, 6, 5, 7, 8]\n",
      "   Step  5 = [1, 2, 3, 4, 5, 6, 9, 7, 8]\n",
      "   Step  6 = [1, 2, 3, 4, 5, 6, 9, 7, 8]\n",
      "   Step  7 = [1, 2, 3, 4, 5, 6, 7, 9, 8]\n",
      "   Step  8 = [1, 2, 3, 4, 5, 6, 7, 8, 9]\n"
     ]
    }
   ],
   "source": [
    "# 코드 6.2: 선택 정렬 테스트 프로그램\n",
    "print(\"\\n선택정렬 테스트\")\n",
    "data = [6,3,7,4,9,1,5,2,8]\n",
    "print(\"Original  :\", data)\n",
    "selection_sort(data)"
   ]
  },
  {
   "cell_type": "markdown",
   "metadata": {
    "id": "9wVNP3T43PHt"
   },
   "source": [
    "###\n",
    "코드 수정\n",
    "\n",
    "\n"
   ]
  },
  {
   "cell_type": "code",
   "execution_count": 4,
   "metadata": {
    "id": "Xp5Z4MFE15yb"
   },
   "outputs": [],
   "source": [
    "# 정렬에 사용된 비교 연산 횟수와 교환 연산 횟수를 추적하기 위해 comparison_count와 swap_count 변수를 추가해 수정\n",
    "\n",
    "def selection_sort_modify(A):\n",
    "    n = len(A)\n",
    "    comparison_count = 0 # 비교 연산 횟수\n",
    "    swap_count = 0 # 교환 연산 횟수\n",
    "    \n",
    "    for i in range(0, n-1,1):\n",
    "        least = i\n",
    "        for j in range(i+1, n):\n",
    "            comparison_count += 1   # 교환 연산 증가\n",
    "            if A[j] < A[least]:\n",
    "                least = j\n",
    "        \n",
    "        if i != least:\n",
    "            swap_count += 1      # 비교 연산 증가\n",
    "            A[i], A[least] = A[least], A[i] # A[i]와 A[least] 교화\n",
    "\n",
    "        print(\"   Step %2d =\"%(i+1), A)     #각 단계별 리스트 변환 출력\n",
    "    print(f\"총 비교 연산 횟수 : {comparison_count}\")\n",
    "    print(f\"총 교환 연산 횟수 : {swap_count}\")"
   ]
  },
  {
   "cell_type": "code",
   "execution_count": 5,
   "metadata": {
    "id": "CjkU-L0nkcFE"
   },
   "outputs": [
    {
     "name": "stdout",
     "output_type": "stream",
     "text": [
      "\n",
      "선택정렬 테스트\n",
      "Original  : [6, 3, 7, 4, 9, 1, 5, 2, 8]\n",
      "   Step  1 = [1, 3, 7, 4, 9, 6, 5, 2, 8]\n",
      "   Step  2 = [1, 2, 7, 4, 9, 6, 5, 3, 8]\n",
      "   Step  3 = [1, 2, 3, 4, 9, 6, 5, 7, 8]\n",
      "   Step  4 = [1, 2, 3, 4, 9, 6, 5, 7, 8]\n",
      "   Step  5 = [1, 2, 3, 4, 5, 6, 9, 7, 8]\n",
      "   Step  6 = [1, 2, 3, 4, 5, 6, 9, 7, 8]\n",
      "   Step  7 = [1, 2, 3, 4, 5, 6, 7, 9, 8]\n",
      "   Step  8 = [1, 2, 3, 4, 5, 6, 7, 8, 9]\n",
      "총 비교 연산 횟수 : 36\n",
      "총 교환 연산 횟수 : 6\n"
     ]
    }
   ],
   "source": [
    "# 코드 6.2: 선택 정렬 테스트 프로그램\n",
    "print(\"\\n선택정렬 테스트\")\n",
    "data = [6,3,7,4,9,1,5,2,8]\n",
    "print(\"Original  :\", data)\n",
    "selection_sort_modify(data)\n"
   ]
  },
  {
   "cell_type": "code",
   "execution_count": 2,
   "metadata": {
    "id": "3UMx_xr--ICE"
   },
   "outputs": [
    {
     "name": "stdout",
     "output_type": "stream",
     "text": [
      "Befor sorting [(3, 'a'), (1, 'b'), (4, 'c'), (1, 'd'), (5, 'e'), (9, 'f'), (2, 'g'), (6, 'h'), (5, 'i'), (3, 'j')]\n",
      "   Step  1 = [(1, 'b'), (3, 'a'), (4, 'c'), (1, 'd'), (5, 'e'), (9, 'f'), (2, 'g'), (6, 'h'), (5, 'i'), (3, 'j')]\n",
      "   Step  2 = [(1, 'b'), (1, 'd'), (4, 'c'), (3, 'a'), (5, 'e'), (9, 'f'), (2, 'g'), (6, 'h'), (5, 'i'), (3, 'j')]\n",
      "   Step  3 = [(1, 'b'), (1, 'd'), (3, 'a'), (4, 'c'), (5, 'e'), (9, 'f'), (2, 'g'), (6, 'h'), (5, 'i'), (3, 'j')]\n",
      "   Step  4 = [(1, 'b'), (1, 'd'), (3, 'a'), (3, 'j'), (5, 'e'), (9, 'f'), (4, 'c'), (6, 'h'), (5, 'i'), (2, 'g')]\n",
      "   Step  5 = [(1, 'b'), (1, 'd'), (3, 'a'), (3, 'j'), (2, 'g'), (9, 'f'), (5, 'e'), (6, 'h'), (5, 'i'), (4, 'c')]\n",
      "   Step  6 = [(1, 'b'), (1, 'd'), (3, 'a'), (3, 'j'), (2, 'g'), (4, 'c'), (9, 'f'), (6, 'h'), (5, 'i'), (5, 'e')]\n",
      "   Step  7 = [(1, 'b'), (1, 'd'), (3, 'a'), (3, 'j'), (2, 'g'), (4, 'c'), (5, 'e'), (9, 'f'), (6, 'h'), (5, 'i')]\n",
      "   Step  8 = [(1, 'b'), (1, 'd'), (3, 'a'), (3, 'j'), (2, 'g'), (4, 'c'), (5, 'e'), (5, 'i'), (9, 'f'), (6, 'h')]\n",
      "   Step  9 = [(1, 'b'), (1, 'd'), (3, 'a'), (3, 'j'), (2, 'g'), (4, 'c'), (5, 'e'), (5, 'i'), (6, 'h'), (9, 'f')]\n",
      "After sorting [(1, 'b'), (1, 'd'), (3, 'a'), (3, 'j'), (2, 'g'), (4, 'c'), (5, 'e'), (5, 'i'), (6, 'h'), (9, 'f')]\n"
     ]
    }
   ],
   "source": [
    "# 예: selection sort가 안정적인 정렬 알고리즘이 아님\n",
    "# 테스트 예시: 중복 값이 있는 배열\n",
    "A = [(3, 'a'), (1, 'b'), (4, 'c'), (1, 'd'), (5, 'e'), (9, 'f'), (2, 'g'), (6, 'h'), (5, 'i'), (3, 'j')]\n",
    "\n",
    "def selection_sort(A):\n",
    "    n = len(A)\n",
    "    for i in range(0, n-1,1):\n",
    "        least = i\n",
    "        for j in range(i+1, n):\n",
    "            if A[j] < A[least]:\n",
    "                least = j\n",
    "                        \n",
    "            A[i], A[least] = A[least], A[i]\n",
    "\n",
    "        print(\"   Step %2d =\"%(i+1), A)\n",
    "\n",
    "print(\"Befor sorting\", A)\n",
    "selection_sort(A)\n",
    "print(\"After sorting\", A)"
   ]
  },
  {
   "cell_type": "code",
   "execution_count": 14,
   "metadata": {
    "id": "eVAKdpPACvbu"
   },
   "outputs": [
    {
     "name": "stdout",
     "output_type": "stream",
     "text": [
      "Random scores generated and saved to C://Users/heedl/scores.txt\n",
      "Before sorting: [15, 9, 82, 53, 72]\n",
      "   Step  1 = [9, 15, 82, 53, 72]\n",
      "   Step  2 = [9, 15, 82, 53, 72]\n",
      "   Step  3 = [9, 15, 53, 82, 72]\n",
      "   Step  4 = [9, 15, 53, 72, 82]\n",
      "After sorting: [9, 15, 53, 72, 82]\n"
     ]
    }
   ],
   "source": [
    "# 0에서 100 사이의 랜덤 점수 10개를 생성하여 scores.txt 파일에 저장한 다음,\n",
    "#이 파일을 읽어와 정렬한 후 sorted_scores.txt 파일에 저장하는 코드\n",
    "\n",
    "import random\n",
    "\n",
    "def generate_random_scores(filename, count=5, min_score=0, max_score=100):\n",
    "    with open(filename, 'w') as file:\n",
    "        for _ in range(count):\n",
    "            score = random.randint(min_score, max_score)\n",
    "            file.write(f\"{score}\\n\")  # write에는 \\n기능이 없어서 작성해 줘야 됨\n",
    "\n",
    "def read_scores(filename):\n",
    "    with open(filename, 'r') as file:  # 파일 읽기 모드 'r'로 변경\n",
    "        scores = [int(line.strip()) for line in file]  # list comprehension\n",
    "    return scores\n",
    "\n",
    "def write_scores(filename, scores):\n",
    "    with open(filename, 'w') as file:\n",
    "        for score in scores:\n",
    "            file.write(f\"{score}\\n\")  # 'wirte' 오타 수정\n",
    "\n",
    "def selection_sort(A):\n",
    "    n = len(A)\n",
    "    for i in range(n - 1):\n",
    "        least = i\n",
    "        for j in range(i + 1, n):\n",
    "            if A[j] < A[least]:\n",
    "                least = j\n",
    "        if i != least:\n",
    "            A[i], A[least] = A[least], A[i]\n",
    "        print(\"   Step %2d =\" % (i + 1), A)\n",
    "\n",
    "def main():\n",
    "    input_filename = r'C://Users/heedl/scores.txt'  # 경로를 raw string으로 변경\n",
    "    output_filename = r'C://Users/heedl/sorted_scores.txt'\n",
    "\n",
    "    # 랜덤 점수 생성 후 파일에 저장\n",
    "    generate_random_scores(input_filename)\n",
    "    print(\"Random scores generated and saved to\", input_filename)\n",
    "\n",
    "    # 점수 읽기\n",
    "    scores = read_scores(input_filename)\n",
    "    print(\"Before sorting:\", scores)\n",
    "\n",
    "    # 정렬 수행\n",
    "    selection_sort(scores)\n",
    "    print(\"After sorting:\", scores)\n",
    "\n",
    "    # 정렬된 점수 파일에 쓰기\n",
    "    write_scores(output_filename, scores)\n",
    "\n",
    "if __name__ == \"__main__\":\n",
    "    main()\n"
   ]
  },
  {
   "cell_type": "markdown",
   "metadata": {
    "id": "j8N7iE7j16sV"
   },
   "source": [
    "# 2. Insertion Sort"
   ]
  },
  {
   "cell_type": "code",
   "execution_count": 17,
   "metadata": {
    "id": "coTpO5Q_2Ep8"
   },
   "outputs": [],
   "source": [
    "#=========================================================\n",
    "# 코드 6.3: 삽입 정렬 알고리즘\n",
    "def insertion_sort(A):\n",
    "    n = len(A)\n",
    "    for i in range(1, n, 1):\n",
    "        key = A[i]\n",
    "        j = i-1\n",
    "        while j >= 0 and A[j] > key: #key보다 작은 A[j]가 나올 때 까지\n",
    "            A[j+1] = A[j]\n",
    "            j -= 1\n",
    "        A[j +1] = key\n",
    "\n",
    "        print(\"   Step %2d =\" % (i + 1), A)\n",
    "\n"
   ]
  },
  {
   "cell_type": "code",
   "execution_count": 18,
   "metadata": {
    "colab": {
     "base_uri": "https://localhost:8080/"
    },
    "id": "dcFoD10_vydA",
    "outputId": "d96a3175-88a8-4899-f6d6-a883cdcc8142"
   },
   "outputs": [
    {
     "name": "stdout",
     "output_type": "stream",
     "text": [
      "   Step  2 = [31, 41, 59, 26, 41, 58]\n",
      "   Step  3 = [31, 41, 59, 26, 41, 58]\n",
      "   Step  4 = [26, 31, 41, 59, 41, 58]\n",
      "   Step  5 = [26, 31, 41, 41, 59, 58]\n",
      "   Step  6 = [26, 31, 41, 41, 58, 59]\n"
     ]
    }
   ],
   "source": [
    "# 테스트 예시\n",
    "A = [31, 41, 59, 26, 41, 58]\n",
    "insertion_sort(A)"
   ]
  },
  {
   "cell_type": "markdown",
   "metadata": {
    "id": "uU_GHutEPgoU"
   },
   "source": [
    "###\n",
    "코드 수정"
   ]
  },
  {
   "cell_type": "code",
   "execution_count": 21,
   "metadata": {
    "id": "jW-9sgM5Pir7"
   },
   "outputs": [],
   "source": [
    "# 삽입 정렬에 사용된 비교 연산 횟수와 교환 연산 횟수를 추적하기 위해\n",
    "# comparison_count와 swap_count 변수를 추가해 수정\n",
    "def insertion_sort_modify(A):\n",
    "    n = len(A)\n",
    "    comparison_count = 0 # 비교 연산 횟수\n",
    "    move_count = 0 # 이동 연산 횟수\n",
    "    \n",
    "    for i in range(1, n, 1):\n",
    "        key = A[i] # A[i]를 ket에 저장\n",
    "        j = i-1 #탐색은 i-1부터 앞으로 진행\n",
    "        while j >= 0 and A[j] > key: #key보다 작은 A[j]가 나올 때 까지\n",
    "            comparison_count += 1\n",
    "            A[j+1] = A[j]\n",
    "            j -= 1\n",
    "            move_count += 1\n",
    "        A[j +1] = key\n",
    "\n",
    "        if j>= 0:\n",
    "            comparison_count+=1\n",
    "        \n",
    "        print(\"   Step %2d =\" % (i + 1), A)\n",
    "    print(f\"Total comparisons:{comparison_count}\")\n",
    "    print(f\"Total swap: {move_count}\")"
   ]
  },
  {
   "cell_type": "code",
   "execution_count": 22,
   "metadata": {
    "colab": {
     "base_uri": "https://localhost:8080/"
    },
    "id": "m57lNd1dwcgT",
    "outputId": "9176eacb-ab40-42f8-8930-157f7966ae5f"
   },
   "outputs": [
    {
     "name": "stdout",
     "output_type": "stream",
     "text": [
      "   Step  2 = [31, 41, 59, 26, 41, 58]\n",
      "   Step  3 = [31, 41, 59, 26, 41, 58]\n",
      "   Step  4 = [26, 31, 41, 59, 41, 58]\n",
      "   Step  5 = [26, 31, 41, 41, 59, 58]\n",
      "   Step  6 = [26, 31, 41, 41, 58, 59]\n",
      "Total comparisons:9\n",
      "Total swap: 5\n"
     ]
    }
   ],
   "source": [
    "# 테스트 예시\n",
    "A = [31, 41, 59, 26, 41, 58]\n",
    "insertion_sort_modify(A)"
   ]
  },
  {
   "cell_type": "markdown",
   "metadata": {
    "id": "BZwAPcY4xuW3"
   },
   "source": [
    "# 3. Quick Sort"
   ]
  },
  {
   "cell_type": "code",
   "execution_count": 33,
   "metadata": {
    "id": "hw49YNEqx5Lf"
   },
   "outputs": [],
   "source": [
    "#=========================================================\n",
    "# 코드 6.4: 퀵 정렬 알고리즘\n",
    "def quick_sort(A, left, right):\n",
    "    if left < right:\n",
    "        q = partition(A, left, right) #좌우로 분할\n",
    "        quick_sort(A, left, q-1) #왼쪽 부분리스트를 퀵 정렬 \n",
    "        quick_sort(A, q+1, right)  # 오른쪽 부분리스트를 퀵 정렬\n",
    "\n",
    "# 코드 6.5 : 분할 알고리즘\n",
    "def partition(A, left, right):\n",
    "    low = left +1\n",
    "    high = right\n",
    "    pivot = A[left] #pivot설정\n",
    "\n",
    "    while low <= high:\n",
    "        # 피벗보다 큰 요소를 찾음\n",
    "        while low <= right and A[low] <= pivot:\n",
    "            low += 1\n",
    "\n",
    "        #피벗보다 작은 요소를 찾음\n",
    "        while high >= left and A[high] > pivot:\n",
    "            high -= 1\n",
    "\n",
    "        #요소를 교환\n",
    "        if low < high:\n",
    "            A[low], A[high] = A[high], A[low]\n",
    "\n",
    "    #피벗 교환\n",
    "    A[left], A[high] = A[high], A[left]\n",
    "    return high\n",
    "\n",
    "\n",
    "\n",
    "\n",
    "# 코드 6.5: 분할 알고리즘\n",
    "\n"
   ]
  },
  {
   "cell_type": "code",
   "execution_count": 34,
   "metadata": {
    "id": "4gwBR-suyPBW"
   },
   "outputs": [
    {
     "name": "stdout",
     "output_type": "stream",
     "text": [
      "Original  :  [5, 3, 8, 4, 9, 1, 6, 2, 7]\n",
      "QuickSort :  [1, 2, 3, 4, 5, 6, 7, 8, 9]\n"
     ]
    }
   ],
   "source": [
    "# 테스트 프로그램\n",
    "data = [ 5, 3, 8, 4, 9, 1, 6, 2, 7]\t\t# 입력 리스트\n",
    "print(\"Original  : \", data)\n",
    "quick_sort(data, 0, len(data)-1)        # 퀵 정렬\n",
    "print(\"QuickSort : \", data)\n"
   ]
  },
  {
   "cell_type": "markdown",
   "metadata": {
    "id": "JDtD26TobKpm"
   },
   "source": [
    "###\n",
    "코드 수정"
   ]
  },
  {
   "cell_type": "code",
   "execution_count": 3,
   "metadata": {
    "id": "eyGCHt4EbNae"
   },
   "outputs": [
    {
     "name": "stdout",
     "output_type": "stream",
     "text": [
      "\n",
      "Step 1 : Sorting range A[0 : 10] -> [62, 26, 19, 54, 26, 48, 80, 37, 87, 52]\n",
      " Swapped A[6] and A[9] -> [62, 26, 19, 54, 26, 48, 52, 37, 87, 80]\n",
      " Pivot swap: A[0] and A[7] -> [37, 26, 19, 54, 26, 48, 52, 62, 87, 80]\n",
      "Partitioned at index 7, pivot placed at A[7] -> 62\n",
      "Current list: [37, 26, 19, 54, 26, 48, 52, 62, 87, 80]\n",
      "\n",
      "Step 2 : Sorting range A[0 : 7] -> [37, 26, 19, 54, 26, 48, 52]\n",
      " Swapped A[3] and A[4] -> [37, 26, 19, 26, 54, 48, 52, 62, 87, 80]\n",
      " Pivot swap: A[0] and A[3] -> [26, 26, 19, 37, 54, 48, 52, 62, 87, 80]\n",
      "Partitioned at index 3, pivot placed at A[3] -> 37\n",
      "Current list: [26, 26, 19, 37, 54, 48, 52, 62, 87, 80]\n",
      "\n",
      "Step 3 : Sorting range A[0 : 3] -> [26, 26, 19]\n",
      " Pivot swap: A[0] and A[2] -> [19, 26, 26, 37, 54, 48, 52, 62, 87, 80]\n",
      "Partitioned at index 2, pivot placed at A[2] -> 26\n",
      "Current list: [19, 26, 26, 37, 54, 48, 52, 62, 87, 80]\n",
      "\n",
      "Step 4 : Sorting range A[0 : 2] -> [19, 26]\n",
      " Pivot swap: A[0] and A[0] -> [19, 26, 26, 37, 54, 48, 52, 62, 87, 80]\n",
      "Partitioned at index 0, pivot placed at A[0] -> 19\n",
      "Current list: [19, 26, 26, 37, 54, 48, 52, 62, 87, 80]\n",
      "\n",
      "Step 5 : Sorting range A[4 : 7] -> [54, 48, 52]\n",
      " Pivot swap: A[4] and A[6] -> [19, 26, 26, 37, 52, 48, 54, 62, 87, 80]\n",
      "Partitioned at index 6, pivot placed at A[6] -> 54\n",
      "Current list: [19, 26, 26, 37, 52, 48, 54, 62, 87, 80]\n",
      "\n",
      "Step 6 : Sorting range A[4 : 6] -> [52, 48]\n",
      " Pivot swap: A[4] and A[5] -> [19, 26, 26, 37, 48, 52, 54, 62, 87, 80]\n",
      "Partitioned at index 5, pivot placed at A[5] -> 52\n",
      "Current list: [19, 26, 26, 37, 48, 52, 54, 62, 87, 80]\n",
      "\n",
      "Step 7 : Sorting range A[8 : 10] -> [87, 80]\n",
      " Pivot swap: A[8] and A[9] -> [19, 26, 26, 37, 48, 52, 54, 62, 80, 87]\n",
      "Partitioned at index 9, pivot placed at A[9] -> 87\n",
      "Current list: [19, 26, 26, 37, 48, 52, 54, 62, 80, 87]\n",
      "Sorted data: [19, 26, 26, 37, 48, 52, 54, 62, 80, 87]\n",
      "Total comparisons: 22\n",
      "Total swaps: 9\n"
     ]
    }
   ],
   "source": [
    "# 퀵 정렬에 사용된 비교 연산 횟수와 교환 연산 횟수를 추적하기 위해 comparison_count와 swap_count 변수를 추가해 수정\n",
    "# 테스트 프로그램에서 랜덤 데이터를 생성하고 정렬을 테스트\n",
    "# 각 단계별로 정렬 과정을 출력하기 위해 quick_sort 함수와 partition 함수 내에서 단계별 리스트 상태를 출력하도록 수정\n",
    "# 또한, 각 단계에서 어느 부분을 정렬하고 있는지 확인\n",
    "import random\n",
    "\n",
    "# 비교와 교환 연산 횟수를 저장할 전역 변수\n",
    "comparison_count = 0\n",
    "swap_count = 0\n",
    "step = 1  # 단계별 출력에 사용할 변수\n",
    "\n",
    "def quick_sort(A, left, right):\n",
    "    global comparison_count, swap_count, step\n",
    "\n",
    "    if left < right:\n",
    "        print(f\"\\nStep {step} : Sorting range A[{left} : {right + 1}] -> {A[left:right + 1]}\")\n",
    "        step += 1\n",
    "        \n",
    "        q = partition(A, left, right)  # 좌우로 분할\n",
    "        print(f\"Partitioned at index {q}, pivot placed at A[{q}] -> {A[q]}\")\n",
    "        print(\"Current list:\", A)\n",
    "        \n",
    "        quick_sort(A, left, q - 1)  # 왼쪽 부분리스트를 퀵 정렬 \n",
    "        quick_sort(A, q + 1, right)  # 오른쪽 부분리스트를 퀵 정렬\n",
    "\n",
    "def partition(A, left, right):\n",
    "    global comparison_count, swap_count\n",
    "    low = left + 1\n",
    "    high = right\n",
    "    pivot = A[left]  # pivot 설정\n",
    "\n",
    "    while True:\n",
    "        # 피벗보다 큰 요소를 찾음\n",
    "        while low <= right and A[low] <= pivot:\n",
    "            low += 1\n",
    "            comparison_count += 1\n",
    "\n",
    "        # 피벗보다 작은 요소를 찾음\n",
    "        while high >= left and A[high] > pivot:\n",
    "            high -= 1  # 감소해야 합니다.\n",
    "            comparison_count += 1\n",
    "\n",
    "        # 요소를 교환\n",
    "        if low < high:\n",
    "            A[low], A[high] = A[high], A[low]\n",
    "            swap_count += 1\n",
    "            print(f\" Swapped A[{low}] and A[{high}] ->\", A)\n",
    "        else:\n",
    "            break  # 포인터가 교차하면 종료\n",
    "\n",
    "    # 피벗 교환\n",
    "    A[left], A[high] = A[high], A[left]\n",
    "    swap_count += 1\n",
    "    print(f\" Pivot swap: A[{left}] and A[{high}] ->\", A)\n",
    "    return high  # 피벗의 새로운 인덱스를 반환\n",
    "\n",
    "def generate_random_data(size=5, min_val=1, max_val=100):\n",
    "    return [random.randint(min_val, max_val) for _ in range(size)]\n",
    "\n",
    "def main():\n",
    "    global comparison_count, swap_count, step\n",
    "\n",
    "    # # 랜덤 데이터 생성\n",
    "    # data = generate_random_data()\n",
    "    # print(\"Original data:\", data)\n",
    "\n",
    "        # 랜덤 데이터 생성\n",
    "    #data = generate_random_data()\n",
    "    data= [62, 26, 19, 54, 26, 48, 80, 37, 87, 52]\n",
    "    print(\"Original data:\", data)\n",
    "\n",
    "    # 비교 및 교환 연산 카운트 초기화\n",
    "    comparison_count = 0\n",
    "    swap_count = 0\n",
    "    step = 1  # 단계 초기화\n",
    "\n",
    "    # 퀵 정렬 수행\n",
    "    quick_sort(data, 0, len(data) - 1)\n",
    "    print(\"Sorted data:\", data)\n",
    "    print(f\"Total comparisons: {comparison_count}\")\n",
    "    print(f\"Total swaps: {swap_count}\")\n",
    "\n",
    "if __name__ == \"__main__\":\n",
    "    main()\n"
   ]
  },
  {
   "cell_type": "code",
   "execution_count": null,
   "metadata": {
    "id": "6_vB5hbUb7DX"
   },
   "outputs": [],
   "source": [
    "# 각 단계별로 정렬 과정을 출력하기 위해 quick_sort 함수와 partition 함수 내에서 단계별 리스트 상태를 출력하도록 수정\n",
    "# 또한, 각 단계에서 어느 부분을 정렬하고 있는지 확인\n",
    "\n",
    "\n",
    "\n",
    "\n",
    "\n",
    "\n",
    "\n",
    "\n",
    "def main():\n",
    "    global comparison_count, swap_count, step\n",
    "\n",
    "    # 랜덤 데이터 생성\n",
    "    #data = generate_random_data()\n",
    "    data= [62, 26, 19, 54, 26, 48, 80, 37, 87, 52]\n",
    "\n",
    "    print(\"Original data:\", data)\n",
    "\n",
    "    # 비교 및 교환 연산 카운트 초기화\n",
    "    comparison_count = 0\n",
    "    swap_count = 0\n",
    "    step = 1\n",
    "\n",
    "    # 퀵 정렬 수행\n",
    "    quick_sort(data, 0, len(data) - 1)\n",
    "    print(\"\\nSorted data:\", data)\n",
    "    print(f\"Total comparisons: {comparison_count}\")\n",
    "    print(f\"Total swaps: {swap_count}\")\n",
    "\n",
    "if __name__ == \"__main__\":\n",
    "    main()"
   ]
  },
  {
   "cell_type": "code",
   "execution_count": 6,
   "metadata": {
    "id": "Akd6ygy1tpH9"
   },
   "outputs": [
    {
     "name": "stdout",
     "output_type": "stream",
     "text": [
      "Original data: [62, 26, 19, 54, 26, 48, 80, 37, 87, 52]\n",
      "\n",
      "Step 1 : Sorting range A[0 : 10] -> [62, 26, 19, 54, 26, 48, 80, 37, 87, 52]\n",
      " Swapped A[3] and A[7] -> [52, 26, 19, 37, 26, 48, 80, 54, 87, 62]\n",
      " Pivot swap: A[0] and A[5] -> [48, 26, 19, 37, 26, 52, 80, 54, 87, 62]\n",
      "Partitioned at index 5, pivot placed at A[5] -> 52\n",
      "Current list: [48, 26, 19, 37, 26, 52, 80, 54, 87, 62]\n",
      "\n",
      "Step 2 : Sorting range A[0 : 5] -> [48, 26, 19, 37, 26]\n",
      " Pivot swap: A[0] and A[2] -> [19, 26, 26, 37, 48, 52, 80, 54, 87, 62]\n",
      "Partitioned at index 2, pivot placed at A[2] -> 26\n",
      "Current list: [19, 26, 26, 37, 48, 52, 80, 54, 87, 62]\n",
      "\n",
      "Step 3 : Sorting range A[0 : 2] -> [19, 26]\n",
      " Pivot swap: A[0] and A[0] -> [19, 26, 26, 37, 48, 52, 80, 54, 87, 62]\n",
      "Partitioned at index 0, pivot placed at A[0] -> 19\n",
      "Current list: [19, 26, 26, 37, 48, 52, 80, 54, 87, 62]\n",
      "\n",
      "Step 4 : Sorting range A[3 : 5] -> [37, 48]\n",
      " Pivot swap: A[3] and A[3] -> [19, 26, 26, 37, 48, 52, 80, 54, 87, 62]\n",
      "Partitioned at index 3, pivot placed at A[3] -> 37\n",
      "Current list: [19, 26, 26, 37, 48, 52, 80, 54, 87, 62]\n",
      "\n",
      "Step 5 : Sorting range A[6 : 10] -> [80, 54, 87, 62]\n",
      " Pivot swap: A[6] and A[7] -> [19, 26, 26, 37, 48, 52, 54, 62, 87, 80]\n",
      "Partitioned at index 7, pivot placed at A[7] -> 62\n",
      "Current list: [19, 26, 26, 37, 48, 52, 54, 62, 87, 80]\n",
      "\n",
      "Step 6 : Sorting range A[8 : 10] -> [87, 80]\n",
      " Pivot swap: A[8] and A[8] -> [19, 26, 26, 37, 48, 52, 54, 62, 80, 87]\n",
      "Partitioned at index 8, pivot placed at A[8] -> 80\n",
      "Current list: [19, 26, 26, 37, 48, 52, 54, 62, 80, 87]\n",
      "\n",
      "Sorted data: [19, 26, 26, 37, 48, 52, 54, 62, 80, 87]\n",
      "Total comparisons: 19\n",
      "Total swaps: 7\n"
     ]
    }
   ],
   "source": [
    "# 퀵 정렬의 성능 최적화\n",
    "# median-of-three 기법을 사용하여 퀵 정렬의 피벗을 리스트의 첫 번째, 중간, 마지막 요소 중 중간값으로 선택하도록 퀵 정렬 알고리즘을 수정\n",
    "# 이 방법은 피벗을 리스트의 중앙값에 가깝게 선택함으로써 최악의 경우를 줄이고 성능을 향상\n",
    "import random\n",
    "\n",
    "# 비교와 교환 연산 횟수를 저장할 전역 변수\n",
    "comparison_count = 0\n",
    "swap_count = 0\n",
    "step = 1  # 단계별 출력에 사용할 변수\n",
    "\n",
    "# left, mid, right 위치의 값 중 중간값을 left에 위치시키고, 이 값을 피벗으로 반환\n",
    "# 세 값 A[left], A[mid], A[right]를 비교하여 가운데 값이 A[mid]에 오도록 정렬\n",
    "def median_of_three(A, left, right):\n",
    "    mid = (left + right) // 2\n",
    "    # 세 값 중 중간값을 선택하기 위해 위치를 정렬\n",
    "    if A[left] > A[mid]:\n",
    "        A[left], A[mid] = A[mid], A[left] #A[left]는 세 값 중 가장 작은 값이\n",
    "    if A[left] > A[right]:\n",
    "        A[left], A[right] = A[right], A[left] #A[right]가 가장 큰 값이 되고, A[left]는 여전히 최소값을 유지\n",
    "    if A[mid] > A[right]:\n",
    "        A[mid], A[right] = A[right], A[mid] # [mid]가 A[right] 이하가 되도록 합니다. 이로써 A[mid]는 세 값 중 중간값이 되고, A[right]는 가장 큰 값\n",
    "    # 중간값으로 선택한 피벗을 리스트의 첫 번째 위치로 이동\n",
    "    A[left], A[mid] = A[mid], A[left]\n",
    "    return A[left]  # 피벗 값 반환\n",
    "\n",
    "def quick_sort(A, left, right):\n",
    "    global comparison_count, swap_count, step\n",
    "\n",
    "    if left < right:\n",
    "        print(f\"\\nStep {step} : Sorting range A[{left} : {right + 1}] -> {A[left:right + 1]}\")\n",
    "        step += 1\n",
    "\n",
    "        pivot = median_of_three(A, left, right)\n",
    "        \n",
    "        q = partition(A, left, right, pivot)  # 좌우로 분할\n",
    "        print(f\"Partitioned at index {q}, pivot placed at A[{q}] -> {A[q]}\")\n",
    "        print(\"Current list:\", A)\n",
    "        \n",
    "        quick_sort(A, left, q - 1)  # 왼쪽 부분리스트를 퀵 정렬 \n",
    "        quick_sort(A, q + 1, right)  # 오른쪽 부분리스트를 퀵 정렬\n",
    "\n",
    "def partition(A, left, right, pivot): #pivot 수정\n",
    "    global comparison_count, swap_count\n",
    "    low = left + 1\n",
    "    high = right\n",
    "    pivot = A[left]  # pivot 설정\n",
    "\n",
    "    while True:\n",
    "        # 피벗보다 큰 요소를 찾음\n",
    "        while low <= right and A[low] <= pivot:\n",
    "            low += 1\n",
    "            comparison_count += 1\n",
    "\n",
    "        # 피벗보다 작은 요소를 찾음\n",
    "        while high >= left and A[high] > pivot:\n",
    "            high -= 1  # 감소해야 합니다.\n",
    "            comparison_count += 1\n",
    "\n",
    "        # 요소를 교환\n",
    "        if low < high:\n",
    "            A[low], A[high] = A[high], A[low]\n",
    "            swap_count += 1\n",
    "            print(f\" Swapped A[{low}] and A[{high}] ->\", A)\n",
    "        else:\n",
    "            break  # 포인터가 교차하면 종료\n",
    "\n",
    "    # 피벗 교환\n",
    "    A[left], A[high] = A[high], A[left]\n",
    "    swap_count += 1\n",
    "    print(f\" Pivot swap: A[{left}] and A[{high}] ->\", A)\n",
    "    return high  # 피벗의 새로운 인덱스를 반환\n",
    "\n",
    "\n",
    "\n",
    "def main():\n",
    "    global comparison_count, swap_count, step\n",
    "\n",
    "    # 랜덤 데이터 생성\n",
    "    #data = generate_random_data()\n",
    "    data = [62, 26, 19, 54, 26, 48, 80, 37, 87, 52]\n",
    "    print(\"Original data:\", data)\n",
    "\n",
    "    # 비교 및 교환 연산 카운트 초기화\n",
    "    comparison_count = 0\n",
    "    swap_count = 0\n",
    "    step = 1\n",
    "\n",
    "    # 퀵 정렬 수행\n",
    "    quick_sort(data, 0, len(data) - 1)\n",
    "    print(\"\\nSorted data:\", data)\n",
    "    print(f\"Total comparisons: {comparison_count}\")\n",
    "    print(f\"Total swaps: {swap_count}\")\n",
    "\n",
    "if __name__ == \"__main__\":\n",
    "    main()\n"
   ]
  },
  {
   "cell_type": "markdown",
   "metadata": {
    "id": "ag_Ynuw_swSv"
   },
   "source": [
    "# #. 비 비교 기반 정렬 알고리즘\n",
    "- 기수 정렬 : 배분 기반 정렬\n",
    "- 계수 정렬 : 빈도 기반 정렬"
   ]
  },
  {
   "cell_type": "markdown",
   "metadata": {
    "id": "mOI-fMiTVr0c"
   },
   "source": [
    "# 1. radix sort"
   ]
  },
  {
   "cell_type": "markdown",
   "metadata": {
    "id": "orMsLv2e9c41"
   },
   "source": [
    "###\n",
    "코드 수정"
   ]
  },
  {
   "cell_type": "code",
   "execution_count": 8,
   "metadata": {
    "id": "c8c2z_IeyDaY"
   },
   "outputs": [
    {
     "name": "stdout",
     "output_type": "stream",
     "text": [
      "\n",
      "Sorting by digit at place1\n",
      "Enqueued : 170 in bucke : 0 \n",
      "Enqueued : 45 in bucke : 5 \n",
      "Enqueued : 75 in bucke : 5 \n",
      "Enqueued : 90 in bucke : 0 \n",
      "Enqueued : 802 in bucke : 2 \n",
      "Enqueued : 24 in bucke : 4 \n",
      "Enqueued : 2 in bucke : 2 \n",
      "Enqueued : 66 in bucke : 6 \n",
      "After srting by digit 1, array:[170, 90, 802, 2, 24, 45, 75, 66]\n",
      "\n",
      " Final sorted array :  [170, 90, 802, 2, 24, 45, 75, 66]\n",
      "\n",
      "Sorting by digit at place11\n",
      "Enqueued : 170 in bucke : 5 \n",
      "Enqueued : 90 in bucke : 8 \n",
      "Enqueued : 802 in bucke : 2 \n",
      "Enqueued : 2 in bucke : 0 \n",
      "Enqueued : 24 in bucke : 2 \n",
      "Enqueued : 45 in bucke : 4 \n",
      "Enqueued : 75 in bucke : 6 \n",
      "Enqueued : 66 in bucke : 6 \n",
      "After srting by digit 11, array:[2, 802, 24, 45, 170, 75, 66, 90]\n",
      "\n",
      " Final sorted array :  [2, 802, 24, 45, 170, 75, 66, 90]\n",
      "\n",
      "Sorting by digit at place21\n",
      "Enqueued : 2 in bucke : 0 \n",
      "Enqueued : 802 in bucke : 8 \n",
      "Enqueued : 24 in bucke : 1 \n",
      "Enqueued : 45 in bucke : 2 \n",
      "Enqueued : 170 in bucke : 8 \n",
      "Enqueued : 75 in bucke : 3 \n",
      "Enqueued : 66 in bucke : 3 \n",
      "Enqueued : 90 in bucke : 4 \n",
      "After srting by digit 21, array:[2, 24, 45, 75, 66, 90, 802, 170]\n",
      "\n",
      " Final sorted array :  [2, 24, 45, 75, 66, 90, 802, 170]\n"
     ]
    }
   ],
   "source": [
    "# 각 단계별 정렬 과정을 출력하기 위해 radix_sort 함수에서 각 자릿수별로 원형 큐에 데이터를 넣고,\n",
    "# 배열로 값을 다시 꺼낼 때 배열 상태를 출력하도록 수정\n",
    "# 원형 큐 아용\n",
    "class ArrayQueue:\n",
    "    def __init__(self, capacity = 10):\n",
    "        self.capacity = capacity\n",
    "        self.array = [None] * capacity\n",
    "        self.front = 0\n",
    "        self.rear = 0\n",
    "\n",
    "    def is_empty(self):\n",
    "        return self.front == self.rear\n",
    "\n",
    "    def is_full(self):\n",
    "        return self.front == (self.rear + 1) % self.capacity\n",
    "\n",
    "    def enqueue(self,item):\n",
    "        if not self.is_full():\n",
    "            self.rear = (self.rear + 1) % self.capacity\n",
    "            self.array[self.rear] = item\n",
    "        else:\n",
    "            print(\"Queue is full. Cannot enqueue.\")\n",
    "\n",
    "    def dequeue(self):\n",
    "        if not self.is_empty():\n",
    "            self.front = (self.front + 1) % self.capacity\n",
    "            item = self.array[self.front]\n",
    "            self.array[self.front] = None # 삭제된 자리 초기화\n",
    "            return item\n",
    "        else:\n",
    "          print(\"Queue is empty. Cannot dequeue.\")\n",
    "          return None\n",
    "\n",
    "# 기수 정렬 함수\n",
    "\n",
    "def radix_sort(A):\n",
    "    Buckets = 10 # 십진수 정렬을 위한 기초\n",
    "    Digits = 3 #정렬할 숫자의 자릿 수\n",
    "\n",
    "    #버킷 개수의 원형큐 생성\n",
    "    queues = [ArrayQueue(len(A)) for _ in range(Buckets)]\n",
    "\n",
    "    n =len(A)\n",
    "    factor = 1 #자릿 수 (일, 십, 백의 자리)\n",
    "\n",
    "    for d in range(Digits):\n",
    "        print(f\"\\nSorting by digit at place{factor}\")\n",
    "        #각 자릿수에 대해 정렬\n",
    "\n",
    "        #1. 각 자릿수에 대해 정렬\n",
    "        for i in range(0, n, 1):\n",
    "            digit = (A[i] // factor) % Buckets\n",
    "            queues[digit].enqueue(A[i]) #자릿수에 해당하는 큐에 삽입\n",
    "            print(f\"Enqueued : {A[i]} in bucke : {digit} \")\n",
    "    \n",
    "        #2. 큐에서 다시 배열로 값을 꺼내어 정렬된 상태로 재배열\n",
    "        i = 0\n",
    "        for b in range(Buckets):\n",
    "            while not queues[b].is_empty():\n",
    "                A[i] = queues[b].dequeue()\n",
    "                i += 1\n",
    "\n",
    "        #3. 현재 자릿수 기준 정렬된 배열 상태 출력\n",
    "        print(f\"After srting by digit {factor}, array:{A}\")\n",
    "\n",
    "        #4. 다음 자릿수로 이동\n",
    "        factor += Buckets\n",
    "\n",
    "\n",
    "        # 최종 결과 출력\n",
    "        print(\"\\n Final sorted array : \", A)\n",
    "\n",
    "# 테스트 샘플 :\n",
    "A = [170, 45, 75, 90, 802, 24, 2, 66]\n",
    "radix_sort(A)\n"
   ]
  },
  {
   "cell_type": "markdown",
   "metadata": {
    "id": "y8_VopqiXvOV"
   },
   "source": [
    "# 2. 계수 정렬(Counting Sort)"
   ]
  },
  {
   "cell_type": "markdown",
   "metadata": {
    "id": "TffJX49E-1qv"
   },
   "source": [
    "###\n",
    "코드 수정"
   ]
  },
  {
   "cell_type": "code",
   "execution_count": 1,
   "metadata": {
    "id": "etB5RN16a3Ve"
   },
   "outputs": [
    {
     "name": "stdout",
     "output_type": "stream",
     "text": [
      "Step 1 : Max Value found 8\n",
      "Step 2 : Initalallzed count array :  [0, 0, 0, 0, 0, 0, 0, 0, 0]\n",
      "Step 3 : Count array after cmulative sum [0, 1, 2, 2, 1, 0, 0, 0, 1]\n",
      "Step 4 : count array after cmulative sum :  [0, 1, 3, 5, 6, 6, 6, 6, 7]\n",
      " Placed 1 at position 0, Updated output array:  [1, 0, 0, 0, 0, 0, 0]\n",
      " Updated count array :  [0, 0, 3, 5, 6, 6, 6, 6, 7]\n",
      " Placed 3 at position 4, Updated output array:  [1, 0, 0, 0, 3, 0, 0]\n",
      " Updated count array :  [0, 0, 3, 4, 6, 6, 6, 6, 7]\n",
      " Placed 3 at position 3, Updated output array:  [1, 0, 0, 3, 3, 0, 0]\n",
      " Updated count array :  [0, 0, 3, 3, 6, 6, 6, 6, 7]\n",
      " Placed 8 at position 6, Updated output array:  [1, 0, 0, 3, 3, 0, 8]\n",
      " Updated count array :  [0, 0, 3, 3, 6, 6, 6, 6, 6]\n",
      " Placed 2 at position 2, Updated output array:  [1, 0, 2, 3, 3, 0, 8]\n",
      " Updated count array :  [0, 0, 2, 3, 6, 6, 6, 6, 6]\n",
      " Placed 2 at position 1, Updated output array:  [1, 2, 2, 3, 3, 0, 8]\n",
      " Updated count array :  [0, 0, 1, 3, 6, 6, 6, 6, 6]\n",
      " Placed 4 at position 5, Updated output array:  [1, 2, 2, 3, 3, 4, 8]\n",
      " Updated count array :  [0, 0, 1, 3, 5, 6, 6, 6, 6]\n",
      "\n",
      "정렬된 배열: [1, 2, 2, 3, 3, 4, 8]\n"
     ]
    }
   ],
   "source": [
    "# 각 단계별로 정렬 과정을 출력하도록 counting_sort 함수에서 특정 작업을 수행할 때마다 배열의 상태를 출력하도록 수정\n",
    "# 특히, 빈도 계산, 누적합 계산, 그리고 정렬된 배열을 구축하는 단계를 출력\n",
    "def counting_sort(arr):  # for = n\n",
    "    #1. 입력 배열에서 가장 큰 값을 찾음\n",
    "    max_val = max(arr)\n",
    "    print(\"Step 1 : Max Value found\", max_val)\n",
    "\n",
    "    #2. 카운트 배열 초기화 (0으로 채워진 배열)\n",
    "    count = [0] * (max_val + 1)\n",
    "    print(\"Step 2 : Initalallzed count array : \", count)\n",
    "    \n",
    "    #3. 카운트 배열 : 입력 배열의 값을 카우트 배열에 기록 (빈도 계산)\n",
    "    for num in arr:\n",
    "        count[num] += 1\n",
    "    print(\"Step 3 : Count array after cmulative sum\", count)\n",
    "\n",
    "    #4. 누적 카운트 배열 : 카운트 배열에서 누적합 계산 (누적 카운트)  = k\n",
    "    for i in range(1, len(count)):\n",
    "        count[i] += count[i - 1]\n",
    "    print(\"Step 4 : count array after cmulative sum : \",count)\n",
    "\n",
    "    #5. 출력 배열 생성\n",
    "    output = [0] * len(arr)\n",
    "\n",
    "    #6. 입력 배열을 역순으로 순회하면서, 각 요소를 출력 배열의 올바른 위치에 삽입\n",
    "    for num in reversed(arr):\n",
    "        output[count[num] - 1] = num\n",
    "        count[num] -= 1 # 사용한 숫자의 위치를 감소\n",
    "        print(f\" Placed {num} at position {count[num]}, Updated output array: \", output)\n",
    "        print(\" Updated count array : \", count)\n",
    "\n",
    "    return output\n",
    "  # O(n + k)\n",
    "\n",
    "# 사용 예시\n",
    "arr = [4, 2, 2, 8, 3, 3, 1]\n",
    "sorted_arr = counting_sort(arr)\n",
    "print(\"\\n정렬된 배열:\", sorted_arr)\n"
   ]
  },
  {
   "cell_type": "markdown",
   "metadata": {
    "id": "Lc9hciKleOJ1"
   },
   "source": [
    "# #. 정렬 알고리즘을 이용한 프로그래밍 과제\n",
    "- 과제 주제: 학생 성적 관리 시스템\n",
    "    - 학생 성적 데이터가 주어졌을 때, 다양한 정렬 알고리즘을 활용해 데이터를 정렬하고 분석하는 프로그램을 작성하세요.\n",
    "    - 이 과제를 통해 정렬 알고리즘의 원리를 이해하고, 실제 데이터에 적용하는 방법을 익히게 됩니다.\n",
    "- 과제 요구사항\n",
    "  - 학생 정보 생성 및 저장:\n",
    "    - 30명의 학생 정보를 무작위로 생성하세요. 각 학생의 정보는 다음과 같습니다:\n",
    "      - 이름: 알파벳 대문자 두 글자 (예: AB, CD)\n",
    "      - 나이: 18 ~ 22 사이의 정수\n",
    "      - 성적: 0 ~ 100 사이의 정수\n",
    "      - 생성된 학생 정보를 리스트에 저장하세요. 각 학생의 정보는 딕셔너리 형태({\"이름\": \"AB\", \"나이\": 19, \"성적\": 85})로 저장합니다.\n",
    "\n",
    "  - 정렬 기능 구현:\n",
    "    - 다음 네 가지 정렬 알고리즘을 구현하세요.\n",
    "      - 선택 정렬, 삽입 정렬, 퀵 정렬\n",
    "      - 기수 정렬 (성적 기준으로 정렬할 때만 사용 가능)\n",
    "    - 각 정렬 알고리즘은 특정 필드를 기준으로 학생 리스트를 정렬할 수 있어야 합니다:\n",
    "      - 이름 (알파벳 순서)\n",
    "      - 나이 (오름차순)\n",
    "      - 성적 (오름차순)\n",
    "  \n",
    "  - 메뉴 및 사용자 입력:\n",
    "    - 프로그램 시작 시, 사용자에게 다음 메뉴를 제공합니다:\n",
    "      - 이름을 기준으로 정렬\n",
    "      - 나이를 기준으로 정렬\n",
    "      - 성적을 기준으로 정렬\n",
    "      - 프로그램 종료\n",
    "    - 사용자 입력에 따라 정렬 기준과 정렬 알고리즘을 선택하도록 합니다.\n",
    "    - 정렬된 결과를 화면에 출력하세요.\n",
    "\n",
    "  - 단계별 출력 (선택 사항):\n",
    "    - 선택한 정렬 알고리즘의 정렬 과정을 단계별로 출력하는 기능을 구현합니다.\n",
    "      - 예를 들어, 선택 정렬의 경우 각 단계마다 리스트 상태를 출력하여 정렬 과정이 어떻게 진행되는지 보여줍니다.\n",
    "\n",
    "- 제출물\n",
    "    - 코드: 파이썬 파일로 정렬 프로그램의 전체 코드 제출.\n",
    "    - README: 코드 구조, 실행 방법, 각 정렬 알고리즘의 시간 복잡도를 설명하는 문서 제출.\n",
    "    - 시간 복잡도 분석: 각 정렬 알고리즘의 평균 수행 시간을 측정하고, 정렬할 학생 데이터 크기가 증가할 때 성능 변화를 그래프로 표현하세요.\n",
    "    - 단계별 출력 기능: 각 정렬 알고리즘의 단계별 리스트 변화를 출력하여 알고리즘의 동작 방식을 시각적으로 확인하세요."
   ]
  },
  {
   "cell_type": "code",
   "execution_count": null,
   "metadata": {
    "id": "mcCVjuAXftuG"
   },
   "outputs": [],
   "source": []
  }
 ],
 "metadata": {
  "colab": {
   "provenance": []
  },
  "kernelspec": {
   "display_name": "Python 3 (ipykernel)",
   "language": "python",
   "name": "python3"
  },
  "language_info": {
   "codemirror_mode": {
    "name": "ipython",
    "version": 3
   },
   "file_extension": ".py",
   "mimetype": "text/x-python",
   "name": "python",
   "nbconvert_exporter": "python",
   "pygments_lexer": "ipython3",
   "version": "3.12.2"
  }
 },
 "nbformat": 4,
 "nbformat_minor": 4
}
